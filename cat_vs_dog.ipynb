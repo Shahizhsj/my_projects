{
  "nbformat": 4,
  "nbformat_minor": 0,
  "metadata": {
    "colab": {
      "provenance": [],
      "gpuType": "T4"
    },
    "kernelspec": {
      "name": "python3",
      "display_name": "Python 3"
    },
    "language_info": {
      "name": "python"
    },
    "accelerator": "GPU"
  },
  "cells": [
    {
      "cell_type": "code",
      "execution_count": 1,
      "metadata": {
        "colab": {
          "base_uri": "https://localhost:8080/"
        },
        "id": "Uycm8RlrnIFi",
        "outputId": "69f66e98-f8e2-435e-d617-c9d6442b008f"
      },
      "outputs": [
        {
          "output_type": "stream",
          "name": "stdout",
          "text": [
            "Dataset URL: https://www.kaggle.com/datasets/anthonytherrien/dog-vs-cat\n",
            "License(s): CC-BY-SA-4.0\n",
            "Downloading dog-vs-cat.zip to /content\n",
            "100% 360M/360M [00:18<00:00, 21.3MB/s]\n",
            "100% 360M/360M [00:18<00:00, 20.1MB/s]\n"
          ]
        }
      ],
      "source": [
        "!kaggle datasets download -d anthonytherrien/dog-vs-cat"
      ]
    },
    {
      "cell_type": "code",
      "source": [
        "!unzip /content/dog-vs-cat.zip"
      ],
      "metadata": {
        "colab": {
          "base_uri": "https://localhost:8080/"
        },
        "collapsed": true,
        "id": "R8FrtL3RnXdy",
        "outputId": "74755a3f-7a5f-42ea-86f0-99946aa823fb"
      },
      "execution_count": 2,
      "outputs": [
        {
          "output_type": "stream",
          "name": "stdout",
          "text": [
            "Archive:  /content/dog-vs-cat.zip\n",
            "  inflating: animal/cat/00000-4122619873.png  \n",
            "  inflating: animal/cat/00001-4122619874.png  \n",
            "  inflating: animal/cat/00002-4122619875.png  \n",
            "  inflating: animal/cat/00003-4122619876.png  \n",
            "  inflating: animal/cat/00004-4122619877.png  \n",
            "  inflating: animal/cat/00005-4122619878.png  \n",
            "  inflating: animal/cat/00006-4122619879.png  \n",
            "  inflating: animal/cat/00007-4122619880.png  \n",
            "  inflating: animal/cat/00008-4122619881.png  \n",
            "  inflating: animal/cat/00009-4122619882.png  \n",
            "  inflating: animal/cat/00010-4122619883.png  \n",
            "  inflating: animal/cat/00011-4122619884.png  \n",
            "  inflating: animal/cat/00012-4122619885.png  \n",
            "  inflating: animal/cat/00013-4122619886.png  \n",
            "  inflating: animal/cat/00014-4122619887.png  \n",
            "  inflating: animal/cat/00015-4122619888.png  \n",
            "  inflating: animal/cat/00016-4122619889.png  \n",
            "  inflating: animal/cat/00017-4122619890.png  \n",
            "  inflating: animal/cat/00018-4122619891.png  \n",
            "  inflating: animal/cat/00019-4122619892.png  \n",
            "  inflating: animal/cat/00020-4122619893.png  \n",
            "  inflating: animal/cat/00021-4122619894.png  \n",
            "  inflating: animal/cat/00022-4122619895.png  \n",
            "  inflating: animal/cat/00023-4122619896.png  \n",
            "  inflating: animal/cat/00024-4122619897.png  \n",
            "  inflating: animal/cat/00025-200124335.png  \n",
            "  inflating: animal/cat/00026-200124336.png  \n",
            "  inflating: animal/cat/00027-200124337.png  \n",
            "  inflating: animal/cat/00028-200124338.png  \n",
            "  inflating: animal/cat/00029-200124339.png  \n",
            "  inflating: animal/cat/00030-200124340.png  \n",
            "  inflating: animal/cat/00031-200124341.png  \n",
            "  inflating: animal/cat/00032-200124342.png  \n",
            "  inflating: animal/cat/00033-200124343.png  \n",
            "  inflating: animal/cat/00034-200124344.png  \n",
            "  inflating: animal/cat/00035-200124345.png  \n",
            "  inflating: animal/cat/00036-200124346.png  \n",
            "  inflating: animal/cat/00037-200124347.png  \n",
            "  inflating: animal/cat/00038-200124348.png  \n",
            "  inflating: animal/cat/00039-200124349.png  \n",
            "  inflating: animal/cat/00040-200124350.png  \n",
            "  inflating: animal/cat/00041-200124351.png  \n",
            "  inflating: animal/cat/00042-200124352.png  \n",
            "  inflating: animal/cat/00043-200124353.png  \n",
            "  inflating: animal/cat/00044-200124354.png  \n",
            "  inflating: animal/cat/00045-200124355.png  \n",
            "  inflating: animal/cat/00046-200124356.png  \n",
            "  inflating: animal/cat/00047-200124357.png  \n",
            "  inflating: animal/cat/00048-200124358.png  \n",
            "  inflating: animal/cat/00049-200124359.png  \n",
            "  inflating: animal/cat/00050-200124360.png  \n",
            "  inflating: animal/cat/00051-200124361.png  \n",
            "  inflating: animal/cat/00052-200124362.png  \n",
            "  inflating: animal/cat/00053-200124363.png  \n",
            "  inflating: animal/cat/00054-200124364.png  \n",
            "  inflating: animal/cat/00055-200124365.png  \n",
            "  inflating: animal/cat/00056-200124366.png  \n",
            "  inflating: animal/cat/00057-200124367.png  \n",
            "  inflating: animal/cat/00058-200124368.png  \n",
            "  inflating: animal/cat/00059-200124369.png  \n",
            "  inflating: animal/cat/00060-200124370.png  \n",
            "  inflating: animal/cat/00061-200124371.png  \n",
            "  inflating: animal/cat/00062-200124372.png  \n",
            "  inflating: animal/cat/00063-200124373.png  \n",
            "  inflating: animal/cat/00064-200124374.png  \n",
            "  inflating: animal/cat/00065-200124375.png  \n",
            "  inflating: animal/cat/00066-200124376.png  \n",
            "  inflating: animal/cat/00067-200124377.png  \n",
            "  inflating: animal/cat/00068-200124378.png  \n",
            "  inflating: animal/cat/00069-200124379.png  \n",
            "  inflating: animal/cat/00070-200124380.png  \n",
            "  inflating: animal/cat/00071-200124381.png  \n",
            "  inflating: animal/cat/00072-200124382.png  \n",
            "  inflating: animal/cat/00073-200124383.png  \n",
            "  inflating: animal/cat/00074-200124384.png  \n",
            "  inflating: animal/cat/00075-200124385.png  \n",
            "  inflating: animal/cat/00076-200124386.png  \n",
            "  inflating: animal/cat/00077-200124387.png  \n",
            "  inflating: animal/cat/00078-200124388.png  \n",
            "  inflating: animal/cat/00079-200124389.png  \n",
            "  inflating: animal/cat/00080-200124390.png  \n",
            "  inflating: animal/cat/00081-200124391.png  \n",
            "  inflating: animal/cat/00082-200124392.png  \n",
            "  inflating: animal/cat/00083-200124393.png  \n",
            "  inflating: animal/cat/00084-200124394.png  \n",
            "  inflating: animal/cat/00085-200124395.png  \n",
            "  inflating: animal/cat/00086-200124396.png  \n",
            "  inflating: animal/cat/00087-200124397.png  \n",
            "  inflating: animal/cat/00088-200124398.png  \n",
            "  inflating: animal/cat/00089-200124399.png  \n",
            "  inflating: animal/cat/00090-200124400.png  \n",
            "  inflating: animal/cat/00091-200124401.png  \n",
            "  inflating: animal/cat/00092-200124402.png  \n",
            "  inflating: animal/cat/00093-200124403.png  \n",
            "  inflating: animal/cat/00094-200124404.png  \n",
            "  inflating: animal/cat/00095-200124405.png  \n",
            "  inflating: animal/cat/00096-200124406.png  \n",
            "  inflating: animal/cat/00097-200124407.png  \n",
            "  inflating: animal/cat/00098-200124408.png  \n",
            "  inflating: animal/cat/00099-200124409.png  \n",
            "  inflating: animal/cat/00100-200124410.png  \n",
            "  inflating: animal/cat/00101-200124411.png  \n",
            "  inflating: animal/cat/00102-200124412.png  \n",
            "  inflating: animal/cat/00103-200124413.png  \n",
            "  inflating: animal/cat/00104-200124414.png  \n",
            "  inflating: animal/cat/00105-200124415.png  \n",
            "  inflating: animal/cat/00106-200124416.png  \n",
            "  inflating: animal/cat/00107-200124417.png  \n",
            "  inflating: animal/cat/00108-200124418.png  \n",
            "  inflating: animal/cat/00109-200124419.png  \n",
            "  inflating: animal/cat/00110-200124420.png  \n",
            "  inflating: animal/cat/00111-200124421.png  \n",
            "  inflating: animal/cat/00112-200124422.png  \n",
            "  inflating: animal/cat/00113-200124423.png  \n",
            "  inflating: animal/cat/00114-200124424.png  \n",
            "  inflating: animal/cat/00115-200124425.png  \n",
            "  inflating: animal/cat/00116-200124426.png  \n",
            "  inflating: animal/cat/00117-200124427.png  \n",
            "  inflating: animal/cat/00118-200124428.png  \n",
            "  inflating: animal/cat/00119-200124429.png  \n",
            "  inflating: animal/cat/00120-200124430.png  \n",
            "  inflating: animal/cat/00121-200124431.png  \n",
            "  inflating: animal/cat/00122-200124432.png  \n",
            "  inflating: animal/cat/00123-200124433.png  \n",
            "  inflating: animal/cat/00124-200124434.png  \n",
            "  inflating: animal/cat/00125-200124435.png  \n",
            "  inflating: animal/cat/00126-200124436.png  \n",
            "  inflating: animal/cat/00127-200124437.png  \n",
            "  inflating: animal/cat/00128-200124438.png  \n",
            "  inflating: animal/cat/00129-200124439.png  \n",
            "  inflating: animal/cat/00130-200124440.png  \n",
            "  inflating: animal/cat/00131-200124441.png  \n",
            "  inflating: animal/cat/00132-200124442.png  \n",
            "  inflating: animal/cat/00133-200124443.png  \n",
            "  inflating: animal/cat/00134-200124444.png  \n",
            "  inflating: animal/cat/00135-200124445.png  \n",
            "  inflating: animal/cat/00136-200124446.png  \n",
            "  inflating: animal/cat/00137-200124447.png  \n",
            "  inflating: animal/cat/00138-200124448.png  \n",
            "  inflating: animal/cat/00139-200124449.png  \n",
            "  inflating: animal/cat/00140-200124450.png  \n",
            "  inflating: animal/cat/00141-200124451.png  \n",
            "  inflating: animal/cat/00142-200124452.png  \n",
            "  inflating: animal/cat/00143-200124453.png  \n",
            "  inflating: animal/cat/00144-200124454.png  \n",
            "  inflating: animal/cat/00145-200124455.png  \n",
            "  inflating: animal/cat/00146-200124456.png  \n",
            "  inflating: animal/cat/00147-200124457.png  \n",
            "  inflating: animal/cat/00148-200124458.png  \n",
            "  inflating: animal/cat/00149-200124459.png  \n",
            "  inflating: animal/cat/00150-200124460.png  \n",
            "  inflating: animal/cat/00151-200124461.png  \n",
            "  inflating: animal/cat/00152-200124462.png  \n",
            "  inflating: animal/cat/00153-200124463.png  \n",
            "  inflating: animal/cat/00154-200124464.png  \n",
            "  inflating: animal/cat/00155-200124465.png  \n",
            "  inflating: animal/cat/00156-200124466.png  \n",
            "  inflating: animal/cat/00157-200124467.png  \n",
            "  inflating: animal/cat/00158-200124468.png  \n",
            "  inflating: animal/cat/00159-200124469.png  \n",
            "  inflating: animal/cat/00160-200124470.png  \n",
            "  inflating: animal/cat/00161-200124471.png  \n",
            "  inflating: animal/cat/00162-200124472.png  \n",
            "  inflating: animal/cat/00163-200124473.png  \n",
            "  inflating: animal/cat/00164-200124474.png  \n",
            "  inflating: animal/cat/00165-200124475.png  \n",
            "  inflating: animal/cat/00166-200124476.png  \n",
            "  inflating: animal/cat/00167-200124477.png  \n",
            "  inflating: animal/cat/00168-200124478.png  \n",
            "  inflating: animal/cat/00169-200124479.png  \n",
            "  inflating: animal/cat/00170-200124480.png  \n",
            "  inflating: animal/cat/00171-200124481.png  \n",
            "  inflating: animal/cat/00172-200124482.png  \n",
            "  inflating: animal/cat/00173-200124483.png  \n",
            "  inflating: animal/cat/00174-200124484.png  \n",
            "  inflating: animal/cat/00175-200124485.png  \n",
            "  inflating: animal/cat/00176-200124486.png  \n",
            "  inflating: animal/cat/00177-200124487.png  \n",
            "  inflating: animal/cat/00178-200124488.png  \n",
            "  inflating: animal/cat/00179-200124489.png  \n",
            "  inflating: animal/cat/00180-200124490.png  \n",
            "  inflating: animal/cat/00181-200124491.png  \n",
            "  inflating: animal/cat/00182-200124492.png  \n",
            "  inflating: animal/cat/00183-200124493.png  \n",
            "  inflating: animal/cat/00184-200124494.png  \n",
            "  inflating: animal/cat/00185-200124495.png  \n",
            "  inflating: animal/cat/00186-200124496.png  \n",
            "  inflating: animal/cat/00187-200124497.png  \n",
            "  inflating: animal/cat/00188-200124498.png  \n",
            "  inflating: animal/cat/00189-200124499.png  \n",
            "  inflating: animal/cat/00190-200124500.png  \n",
            "  inflating: animal/cat/00191-200124501.png  \n",
            "  inflating: animal/cat/00192-200124502.png  \n",
            "  inflating: animal/cat/00193-200124503.png  \n",
            "  inflating: animal/cat/00194-200124504.png  \n",
            "  inflating: animal/cat/00195-200124505.png  \n",
            "  inflating: animal/cat/00196-200124506.png  \n",
            "  inflating: animal/cat/00197-200124507.png  \n",
            "  inflating: animal/cat/00198-200124508.png  \n",
            "  inflating: animal/cat/00199-200124509.png  \n",
            "  inflating: animal/cat/00200-200124510.png  \n",
            "  inflating: animal/cat/00201-200124511.png  \n",
            "  inflating: animal/cat/00202-200124512.png  \n",
            "  inflating: animal/cat/00203-200124513.png  \n",
            "  inflating: animal/cat/00204-200124514.png  \n",
            "  inflating: animal/cat/00205-200124515.png  \n",
            "  inflating: animal/cat/00206-200124516.png  \n",
            "  inflating: animal/cat/00207-200124517.png  \n",
            "  inflating: animal/cat/00208-200124518.png  \n",
            "  inflating: animal/cat/00209-200124519.png  \n",
            "  inflating: animal/cat/00210-200124520.png  \n",
            "  inflating: animal/cat/00211-200124521.png  \n",
            "  inflating: animal/cat/00212-200124522.png  \n",
            "  inflating: animal/cat/00213-200124523.png  \n",
            "  inflating: animal/cat/00214-200124524.png  \n",
            "  inflating: animal/cat/00215-200124525.png  \n",
            "  inflating: animal/cat/00216-200124526.png  \n",
            "  inflating: animal/cat/00217-200124527.png  \n",
            "  inflating: animal/cat/00218-200124528.png  \n",
            "  inflating: animal/cat/00219-200124529.png  \n",
            "  inflating: animal/cat/00220-200124530.png  \n",
            "  inflating: animal/cat/00221-200124531.png  \n",
            "  inflating: animal/cat/00222-200124532.png  \n",
            "  inflating: animal/cat/00223-200124533.png  \n",
            "  inflating: animal/cat/00224-200124534.png  \n",
            "  inflating: animal/cat/00225-200124535.png  \n",
            "  inflating: animal/cat/00226-200124536.png  \n",
            "  inflating: animal/cat/00227-200124537.png  \n",
            "  inflating: animal/cat/00228-200124538.png  \n",
            "  inflating: animal/cat/00229-200124539.png  \n",
            "  inflating: animal/cat/00230-200124540.png  \n",
            "  inflating: animal/cat/00231-200124541.png  \n",
            "  inflating: animal/cat/00232-200124542.png  \n",
            "  inflating: animal/cat/00233-200124543.png  \n",
            "  inflating: animal/cat/00234-200124544.png  \n",
            "  inflating: animal/cat/00235-200124545.png  \n",
            "  inflating: animal/cat/00236-200124546.png  \n",
            "  inflating: animal/cat/00237-200124547.png  \n",
            "  inflating: animal/cat/00238-200124548.png  \n",
            "  inflating: animal/cat/00239-200124549.png  \n",
            "  inflating: animal/cat/00240-200124550.png  \n",
            "  inflating: animal/cat/00241-200124551.png  \n",
            "  inflating: animal/cat/00242-200124552.png  \n",
            "  inflating: animal/cat/00243-200124553.png  \n",
            "  inflating: animal/cat/00244-200124554.png  \n",
            "  inflating: animal/cat/00245-200124555.png  \n",
            "  inflating: animal/cat/00246-200124556.png  \n",
            "  inflating: animal/cat/00247-200124557.png  \n",
            "  inflating: animal/cat/00248-200124558.png  \n",
            "  inflating: animal/cat/00249-200124559.png  \n",
            "  inflating: animal/cat/00250-200124560.png  \n",
            "  inflating: animal/cat/00251-200124561.png  \n",
            "  inflating: animal/cat/00252-200124562.png  \n",
            "  inflating: animal/cat/00253-200124563.png  \n",
            "  inflating: animal/cat/00254-200124564.png  \n",
            "  inflating: animal/cat/00255-200124565.png  \n",
            "  inflating: animal/cat/00256-200124566.png  \n",
            "  inflating: animal/cat/00257-200124567.png  \n",
            "  inflating: animal/cat/00258-200124568.png  \n",
            "  inflating: animal/cat/00259-200124569.png  \n",
            "  inflating: animal/cat/00260-200124570.png  \n",
            "  inflating: animal/cat/00261-200124571.png  \n",
            "  inflating: animal/cat/00262-200124572.png  \n",
            "  inflating: animal/cat/00263-200124573.png  \n",
            "  inflating: animal/cat/00264-200124574.png  \n",
            "  inflating: animal/cat/00265-200124575.png  \n",
            "  inflating: animal/cat/00266-200124576.png  \n",
            "  inflating: animal/cat/00267-200124577.png  \n",
            "  inflating: animal/cat/00268-200124578.png  \n",
            "  inflating: animal/cat/00269-200124579.png  \n",
            "  inflating: animal/cat/00270-200124580.png  \n",
            "  inflating: animal/cat/00271-200124581.png  \n",
            "  inflating: animal/cat/00272-200124582.png  \n",
            "  inflating: animal/cat/00273-200124583.png  \n",
            "  inflating: animal/cat/00274-200124584.png  \n",
            "  inflating: animal/cat/00275-200124585.png  \n",
            "  inflating: animal/cat/00276-200124586.png  \n",
            "  inflating: animal/cat/00277-200124587.png  \n",
            "  inflating: animal/cat/00278-200124588.png  \n",
            "  inflating: animal/cat/00279-200124589.png  \n",
            "  inflating: animal/cat/00280-200124590.png  \n",
            "  inflating: animal/cat/00281-200124591.png  \n",
            "  inflating: animal/cat/00282-200124592.png  \n",
            "  inflating: animal/cat/00283-200124593.png  \n",
            "  inflating: animal/cat/00284-200124594.png  \n",
            "  inflating: animal/cat/00285-200124595.png  \n",
            "  inflating: animal/cat/00286-200124596.png  \n",
            "  inflating: animal/cat/00287-200124597.png  \n",
            "  inflating: animal/cat/00288-200124598.png  \n",
            "  inflating: animal/cat/00289-200124599.png  \n",
            "  inflating: animal/cat/00290-200124600.png  \n",
            "  inflating: animal/cat/00291-200124601.png  \n",
            "  inflating: animal/cat/00292-200124602.png  \n",
            "  inflating: animal/cat/00293-200124603.png  \n",
            "  inflating: animal/cat/00294-200124604.png  \n",
            "  inflating: animal/cat/00295-200124605.png  \n",
            "  inflating: animal/cat/00296-200124606.png  \n",
            "  inflating: animal/cat/00297-200124607.png  \n",
            "  inflating: animal/cat/00298-200124608.png  \n",
            "  inflating: animal/cat/00299-200124609.png  \n",
            "  inflating: animal/cat/00300-200124610.png  \n",
            "  inflating: animal/cat/00301-200124611.png  \n",
            "  inflating: animal/cat/00302-200124612.png  \n",
            "  inflating: animal/cat/00303-200124613.png  \n",
            "  inflating: animal/cat/00304-200124614.png  \n",
            "  inflating: animal/cat/00305-200124615.png  \n",
            "  inflating: animal/cat/00306-200124616.png  \n",
            "  inflating: animal/cat/00307-200124617.png  \n",
            "  inflating: animal/cat/00308-200124618.png  \n",
            "  inflating: animal/cat/00309-200124619.png  \n",
            "  inflating: animal/cat/00310-200124620.png  \n",
            "  inflating: animal/cat/00311-200124621.png  \n",
            "  inflating: animal/cat/00312-200124622.png  \n",
            "  inflating: animal/cat/00313-200124623.png  \n",
            "  inflating: animal/cat/00314-200124624.png  \n",
            "  inflating: animal/cat/00315-200124625.png  \n",
            "  inflating: animal/cat/00316-200124626.png  \n",
            "  inflating: animal/cat/00317-200124627.png  \n",
            "  inflating: animal/cat/00318-200124628.png  \n",
            "  inflating: animal/cat/00319-200124629.png  \n",
            "  inflating: animal/cat/00320-200124630.png  \n",
            "  inflating: animal/cat/00321-200124631.png  \n",
            "  inflating: animal/cat/00322-200124632.png  \n",
            "  inflating: animal/cat/00323-200124633.png  \n",
            "  inflating: animal/cat/00324-200124634.png  \n",
            "  inflating: animal/cat/00325-200124635.png  \n",
            "  inflating: animal/cat/00326-200124636.png  \n",
            "  inflating: animal/cat/00327-200124637.png  \n",
            "  inflating: animal/cat/00328-200124638.png  \n",
            "  inflating: animal/cat/00329-200124639.png  \n",
            "  inflating: animal/cat/00330-200124640.png  \n",
            "  inflating: animal/cat/00331-200124641.png  \n",
            "  inflating: animal/cat/00332-200124642.png  \n",
            "  inflating: animal/cat/00333-200124643.png  \n",
            "  inflating: animal/cat/00334-200124644.png  \n",
            "  inflating: animal/cat/00335-200124645.png  \n",
            "  inflating: animal/cat/00336-200124646.png  \n",
            "  inflating: animal/cat/00337-200124647.png  \n",
            "  inflating: animal/cat/00338-200124648.png  \n",
            "  inflating: animal/cat/00339-200124649.png  \n",
            "  inflating: animal/cat/00340-200124650.png  \n",
            "  inflating: animal/cat/00341-200124651.png  \n",
            "  inflating: animal/cat/00342-200124652.png  \n",
            "  inflating: animal/cat/00343-200124653.png  \n",
            "  inflating: animal/cat/00344-200124654.png  \n",
            "  inflating: animal/cat/00345-200124655.png  \n",
            "  inflating: animal/cat/00346-200124656.png  \n",
            "  inflating: animal/cat/00347-200124657.png  \n",
            "  inflating: animal/cat/00348-200124658.png  \n",
            "  inflating: animal/cat/00349-200124659.png  \n",
            "  inflating: animal/cat/00350-200124660.png  \n",
            "  inflating: animal/cat/00351-200124661.png  \n",
            "  inflating: animal/cat/00352-200124662.png  \n",
            "  inflating: animal/cat/00353-200124663.png  \n",
            "  inflating: animal/cat/00354-200124664.png  \n",
            "  inflating: animal/cat/00355-200124665.png  \n",
            "  inflating: animal/cat/00356-200124666.png  \n",
            "  inflating: animal/cat/00357-200124667.png  \n",
            "  inflating: animal/cat/00358-200124668.png  \n",
            "  inflating: animal/cat/00359-200124669.png  \n",
            "  inflating: animal/cat/00360-200124670.png  \n",
            "  inflating: animal/cat/00361-200124671.png  \n",
            "  inflating: animal/cat/00362-200124672.png  \n",
            "  inflating: animal/cat/00363-200124673.png  \n",
            "  inflating: animal/cat/00364-200124674.png  \n",
            "  inflating: animal/cat/00365-200124675.png  \n",
            "  inflating: animal/cat/00366-200124676.png  \n",
            "  inflating: animal/cat/00367-200124677.png  \n",
            "  inflating: animal/cat/00368-200124678.png  \n",
            "  inflating: animal/cat/00369-200124679.png  \n",
            "  inflating: animal/cat/00370-200124680.png  \n",
            "  inflating: animal/cat/00371-200124681.png  \n",
            "  inflating: animal/cat/00372-200124682.png  \n",
            "  inflating: animal/cat/00373-200124683.png  \n",
            "  inflating: animal/cat/00374-200124684.png  \n",
            "  inflating: animal/cat/00375-200124685.png  \n",
            "  inflating: animal/cat/00376-200124686.png  \n",
            "  inflating: animal/cat/00377-200124687.png  \n",
            "  inflating: animal/cat/00378-200124688.png  \n",
            "  inflating: animal/cat/00379-200124689.png  \n",
            "  inflating: animal/cat/00380-200124690.png  \n",
            "  inflating: animal/cat/00381-200124691.png  \n",
            "  inflating: animal/cat/00382-200124692.png  \n",
            "  inflating: animal/cat/00383-200124693.png  \n",
            "  inflating: animal/cat/00384-200124694.png  \n",
            "  inflating: animal/cat/00385-200124695.png  \n",
            "  inflating: animal/cat/00386-200124696.png  \n",
            "  inflating: animal/cat/00387-200124697.png  \n",
            "  inflating: animal/cat/00388-200124698.png  \n",
            "  inflating: animal/cat/00389-200124699.png  \n",
            "  inflating: animal/cat/00390-200124700.png  \n",
            "  inflating: animal/cat/00391-200124701.png  \n",
            "  inflating: animal/cat/00392-200124702.png  \n",
            "  inflating: animal/cat/00393-200124703.png  \n",
            "  inflating: animal/cat/00394-200124704.png  \n",
            "  inflating: animal/cat/00395-200124705.png  \n",
            "  inflating: animal/cat/00396-200124706.png  \n",
            "  inflating: animal/cat/00397-200124707.png  \n",
            "  inflating: animal/cat/00398-200124708.png  \n",
            "  inflating: animal/cat/00399-200124709.png  \n",
            "  inflating: animal/cat/00400-200124710.png  \n",
            "  inflating: animal/cat/00401-200124711.png  \n",
            "  inflating: animal/cat/00402-200124712.png  \n",
            "  inflating: animal/cat/00403-200124713.png  \n",
            "  inflating: animal/cat/00404-200124714.png  \n",
            "  inflating: animal/cat/00405-200124715.png  \n",
            "  inflating: animal/cat/00406-200124716.png  \n",
            "  inflating: animal/cat/00407-200124717.png  \n",
            "  inflating: animal/cat/00408-200124718.png  \n",
            "  inflating: animal/cat/00409-200124719.png  \n",
            "  inflating: animal/cat/00410-200124720.png  \n",
            "  inflating: animal/cat/00411-200124721.png  \n",
            "  inflating: animal/cat/00412-200124722.png  \n",
            "  inflating: animal/cat/00413-200124723.png  \n",
            "  inflating: animal/cat/00414-200124724.png  \n",
            "  inflating: animal/cat/00415-200124725.png  \n",
            "  inflating: animal/cat/00416-200124726.png  \n",
            "  inflating: animal/cat/00417-200124727.png  \n",
            "  inflating: animal/cat/00418-200124728.png  \n",
            "  inflating: animal/cat/00419-200124729.png  \n",
            "  inflating: animal/cat/00420-200124730.png  \n",
            "  inflating: animal/cat/00421-200124731.png  \n",
            "  inflating: animal/cat/00422-200124732.png  \n",
            "  inflating: animal/cat/00423-200124733.png  \n",
            "  inflating: animal/cat/00424-200124734.png  \n",
            "  inflating: animal/cat/00425-200124735.png  \n",
            "  inflating: animal/cat/00426-200124736.png  \n",
            "  inflating: animal/cat/00427-200124737.png  \n",
            "  inflating: animal/cat/00428-200124738.png  \n",
            "  inflating: animal/cat/00429-200124739.png  \n",
            "  inflating: animal/cat/00430-200124740.png  \n",
            "  inflating: animal/cat/00431-200124741.png  \n",
            "  inflating: animal/cat/00432-200124742.png  \n",
            "  inflating: animal/cat/00433-200124743.png  \n",
            "  inflating: animal/cat/00434-200124744.png  \n",
            "  inflating: animal/cat/00435-200124745.png  \n",
            "  inflating: animal/cat/00436-200124746.png  \n",
            "  inflating: animal/cat/00437-200124747.png  \n",
            "  inflating: animal/cat/00438-200124748.png  \n",
            "  inflating: animal/cat/00439-200124749.png  \n",
            "  inflating: animal/cat/00440-200124750.png  \n",
            "  inflating: animal/cat/00441-200124751.png  \n",
            "  inflating: animal/cat/00442-200124752.png  \n",
            "  inflating: animal/cat/00443-200124753.png  \n",
            "  inflating: animal/cat/00444-200124754.png  \n",
            "  inflating: animal/cat/00445-200124755.png  \n",
            "  inflating: animal/cat/00446-200124756.png  \n",
            "  inflating: animal/cat/00447-200124757.png  \n",
            "  inflating: animal/cat/00448-200124758.png  \n",
            "  inflating: animal/cat/00449-200124759.png  \n",
            "  inflating: animal/cat/00450-200124760.png  \n",
            "  inflating: animal/cat/00451-200124761.png  \n",
            "  inflating: animal/cat/00452-200124762.png  \n",
            "  inflating: animal/cat/00453-200124763.png  \n",
            "  inflating: animal/cat/00454-200124764.png  \n",
            "  inflating: animal/cat/00455-200124765.png  \n",
            "  inflating: animal/cat/00456-200124766.png  \n",
            "  inflating: animal/cat/00457-200124767.png  \n",
            "  inflating: animal/cat/00458-200124768.png  \n",
            "  inflating: animal/cat/00459-200124769.png  \n",
            "  inflating: animal/cat/00460-200124770.png  \n",
            "  inflating: animal/cat/00461-200124771.png  \n",
            "  inflating: animal/cat/00462-200124772.png  \n",
            "  inflating: animal/cat/00463-200124773.png  \n",
            "  inflating: animal/cat/00464-200124774.png  \n",
            "  inflating: animal/cat/00465-200124775.png  \n",
            "  inflating: animal/cat/00466-200124776.png  \n",
            "  inflating: animal/cat/00467-200124777.png  \n",
            "  inflating: animal/cat/00468-200124778.png  \n",
            "  inflating: animal/cat/00469-200124779.png  \n",
            "  inflating: animal/cat/00470-200124780.png  \n",
            "  inflating: animal/cat/00471-200124781.png  \n",
            "  inflating: animal/cat/00472-200124782.png  \n",
            "  inflating: animal/cat/00473-200124783.png  \n",
            "  inflating: animal/cat/00474-200124784.png  \n",
            "  inflating: animal/cat/00475-200124785.png  \n",
            "  inflating: animal/cat/00476-200124786.png  \n",
            "  inflating: animal/cat/00477-200124787.png  \n",
            "  inflating: animal/cat/00478-200124788.png  \n",
            "  inflating: animal/cat/00479-200124789.png  \n",
            "  inflating: animal/cat/00480-200124790.png  \n",
            "  inflating: animal/cat/00481-200124791.png  \n",
            "  inflating: animal/cat/00482-200124792.png  \n",
            "  inflating: animal/cat/00483-200124793.png  \n",
            "  inflating: animal/cat/00484-200124794.png  \n",
            "  inflating: animal/cat/00485-200124795.png  \n",
            "  inflating: animal/cat/00486-200124796.png  \n",
            "  inflating: animal/cat/00487-200124797.png  \n",
            "  inflating: animal/cat/00488-200124798.png  \n",
            "  inflating: animal/cat/00489-200124799.png  \n",
            "  inflating: animal/cat/00490-200124800.png  \n",
            "  inflating: animal/cat/00491-200124801.png  \n",
            "  inflating: animal/cat/00492-200124802.png  \n",
            "  inflating: animal/cat/00493-200124803.png  \n",
            "  inflating: animal/cat/00494-200124804.png  \n",
            "  inflating: animal/cat/00495-200124805.png  \n",
            "  inflating: animal/cat/00496-200124806.png  \n",
            "  inflating: animal/cat/00497-200124807.png  \n",
            "  inflating: animal/cat/00498-200124808.png  \n",
            "  inflating: animal/cat/00499-200124809.png  \n",
            "  inflating: animal/dog/00500-3846168662.png  \n",
            "  inflating: animal/dog/00501-3846168663.png  \n",
            "  inflating: animal/dog/00502-3846168664.png  \n",
            "  inflating: animal/dog/00503-3846168665.png  \n",
            "  inflating: animal/dog/00504-3846168666.png  \n",
            "  inflating: animal/dog/00505-3846168667.png  \n",
            "  inflating: animal/dog/00506-3846168668.png  \n",
            "  inflating: animal/dog/00507-3846168669.png  \n",
            "  inflating: animal/dog/00508-3846168670.png  \n",
            "  inflating: animal/dog/00509-3846168671.png  \n",
            "  inflating: animal/dog/00510-3846168672.png  \n",
            "  inflating: animal/dog/00511-3846168673.png  \n",
            "  inflating: animal/dog/00512-3846168674.png  \n",
            "  inflating: animal/dog/00513-3846168675.png  \n",
            "  inflating: animal/dog/00514-3846168676.png  \n",
            "  inflating: animal/dog/00515-3846168677.png  \n",
            "  inflating: animal/dog/00516-3846168678.png  \n",
            "  inflating: animal/dog/00517-3846168679.png  \n",
            "  inflating: animal/dog/00518-3846168680.png  \n",
            "  inflating: animal/dog/00519-3846168681.png  \n",
            "  inflating: animal/dog/00520-3846168682.png  \n",
            "  inflating: animal/dog/00521-3846168683.png  \n",
            "  inflating: animal/dog/00522-3846168684.png  \n",
            "  inflating: animal/dog/00523-3846168685.png  \n",
            "  inflating: animal/dog/00524-3846168686.png  \n",
            "  inflating: animal/dog/00525-3846168687.png  \n",
            "  inflating: animal/dog/00526-3846168688.png  \n",
            "  inflating: animal/dog/00527-3846168689.png  \n",
            "  inflating: animal/dog/00528-3846168690.png  \n",
            "  inflating: animal/dog/00529-3846168691.png  \n",
            "  inflating: animal/dog/00530-3846168692.png  \n",
            "  inflating: animal/dog/00531-3846168693.png  \n",
            "  inflating: animal/dog/00532-3846168694.png  \n",
            "  inflating: animal/dog/00533-3846168695.png  \n",
            "  inflating: animal/dog/00534-3846168696.png  \n",
            "  inflating: animal/dog/00535-3846168697.png  \n",
            "  inflating: animal/dog/00536-3846168698.png  \n",
            "  inflating: animal/dog/00537-3846168699.png  \n",
            "  inflating: animal/dog/00538-3846168700.png  \n",
            "  inflating: animal/dog/00539-3846168701.png  \n",
            "  inflating: animal/dog/00540-3846168702.png  \n",
            "  inflating: animal/dog/00541-3846168703.png  \n",
            "  inflating: animal/dog/00542-3846168704.png  \n",
            "  inflating: animal/dog/00543-3846168705.png  \n",
            "  inflating: animal/dog/00544-3846168706.png  \n",
            "  inflating: animal/dog/00545-3846168707.png  \n",
            "  inflating: animal/dog/00546-3846168708.png  \n",
            "  inflating: animal/dog/00547-3846168709.png  \n",
            "  inflating: animal/dog/00548-3846168710.png  \n",
            "  inflating: animal/dog/00549-3846168711.png  \n",
            "  inflating: animal/dog/00550-3846168712.png  \n",
            "  inflating: animal/dog/00551-3846168713.png  \n",
            "  inflating: animal/dog/00552-3846168714.png  \n",
            "  inflating: animal/dog/00553-3846168715.png  \n",
            "  inflating: animal/dog/00554-3846168716.png  \n",
            "  inflating: animal/dog/00555-3846168717.png  \n",
            "  inflating: animal/dog/00556-3846168718.png  \n",
            "  inflating: animal/dog/00557-3846168719.png  \n",
            "  inflating: animal/dog/00558-3846168720.png  \n",
            "  inflating: animal/dog/00559-3846168721.png  \n",
            "  inflating: animal/dog/00560-3846168722.png  \n",
            "  inflating: animal/dog/00561-3846168723.png  \n",
            "  inflating: animal/dog/00562-3846168724.png  \n",
            "  inflating: animal/dog/00563-3846168725.png  \n",
            "  inflating: animal/dog/00564-3846168726.png  \n",
            "  inflating: animal/dog/00565-3846168727.png  \n",
            "  inflating: animal/dog/00566-3846168728.png  \n",
            "  inflating: animal/dog/00567-3846168729.png  \n",
            "  inflating: animal/dog/00568-3846168730.png  \n",
            "  inflating: animal/dog/00569-3846168731.png  \n",
            "  inflating: animal/dog/00570-3846168732.png  \n",
            "  inflating: animal/dog/00571-3846168733.png  \n",
            "  inflating: animal/dog/00572-3846168734.png  \n",
            "  inflating: animal/dog/00573-3846168735.png  \n",
            "  inflating: animal/dog/00574-3846168736.png  \n",
            "  inflating: animal/dog/00575-3846168737.png  \n",
            "  inflating: animal/dog/00576-3846168738.png  \n",
            "  inflating: animal/dog/00577-3846168739.png  \n",
            "  inflating: animal/dog/00578-3846168740.png  \n",
            "  inflating: animal/dog/00579-3846168741.png  \n",
            "  inflating: animal/dog/00580-3846168742.png  \n",
            "  inflating: animal/dog/00581-3846168743.png  \n",
            "  inflating: animal/dog/00582-3846168744.png  \n",
            "  inflating: animal/dog/00583-3846168745.png  \n",
            "  inflating: animal/dog/00584-3846168746.png  \n",
            "  inflating: animal/dog/00585-3846168747.png  \n",
            "  inflating: animal/dog/00586-3846168748.png  \n",
            "  inflating: animal/dog/00587-3846168749.png  \n",
            "  inflating: animal/dog/00588-3846168750.png  \n",
            "  inflating: animal/dog/00589-3846168751.png  \n",
            "  inflating: animal/dog/00590-3846168752.png  \n",
            "  inflating: animal/dog/00591-3846168753.png  \n",
            "  inflating: animal/dog/00592-3846168754.png  \n",
            "  inflating: animal/dog/00593-3846168755.png  \n",
            "  inflating: animal/dog/00594-3846168756.png  \n",
            "  inflating: animal/dog/00595-3846168757.png  \n",
            "  inflating: animal/dog/00596-3846168758.png  \n",
            "  inflating: animal/dog/00597-3846168759.png  \n",
            "  inflating: animal/dog/00598-3846168760.png  \n",
            "  inflating: animal/dog/00599-3846168761.png  \n",
            "  inflating: animal/dog/00600-3846168762.png  \n",
            "  inflating: animal/dog/00601-3846168763.png  \n",
            "  inflating: animal/dog/00602-3846168764.png  \n",
            "  inflating: animal/dog/00603-3846168765.png  \n",
            "  inflating: animal/dog/00604-3846168766.png  \n",
            "  inflating: animal/dog/00605-3846168767.png  \n",
            "  inflating: animal/dog/00606-3846168768.png  \n",
            "  inflating: animal/dog/00607-3846168769.png  \n",
            "  inflating: animal/dog/00608-3846168770.png  \n",
            "  inflating: animal/dog/00609-3846168771.png  \n",
            "  inflating: animal/dog/00610-3846168772.png  \n",
            "  inflating: animal/dog/00611-3846168773.png  \n",
            "  inflating: animal/dog/00612-3846168774.png  \n",
            "  inflating: animal/dog/00613-3846168775.png  \n",
            "  inflating: animal/dog/00614-3846168776.png  \n",
            "  inflating: animal/dog/00615-3846168777.png  \n",
            "  inflating: animal/dog/00616-3846168778.png  \n",
            "  inflating: animal/dog/00617-3846168779.png  \n",
            "  inflating: animal/dog/00618-3846168780.png  \n",
            "  inflating: animal/dog/00619-3846168781.png  \n",
            "  inflating: animal/dog/00620-3846168782.png  \n",
            "  inflating: animal/dog/00621-3846168783.png  \n",
            "  inflating: animal/dog/00622-3846168784.png  \n",
            "  inflating: animal/dog/00623-3846168785.png  \n",
            "  inflating: animal/dog/00624-3846168786.png  \n",
            "  inflating: animal/dog/00625-3846168787.png  \n",
            "  inflating: animal/dog/00626-3846168788.png  \n",
            "  inflating: animal/dog/00627-3846168789.png  \n",
            "  inflating: animal/dog/00628-3846168790.png  \n",
            "  inflating: animal/dog/00629-3846168791.png  \n",
            "  inflating: animal/dog/00630-3846168792.png  \n",
            "  inflating: animal/dog/00631-3846168793.png  \n",
            "  inflating: animal/dog/00632-3846168794.png  \n",
            "  inflating: animal/dog/00633-3846168795.png  \n",
            "  inflating: animal/dog/00634-3846168796.png  \n",
            "  inflating: animal/dog/00635-3846168797.png  \n",
            "  inflating: animal/dog/00636-3846168798.png  \n",
            "  inflating: animal/dog/00637-3846168799.png  \n",
            "  inflating: animal/dog/00638-3846168800.png  \n",
            "  inflating: animal/dog/00639-3846168801.png  \n",
            "  inflating: animal/dog/00640-3846168802.png  \n",
            "  inflating: animal/dog/00641-3846168803.png  \n",
            "  inflating: animal/dog/00642-3846168804.png  \n",
            "  inflating: animal/dog/00643-3846168805.png  \n",
            "  inflating: animal/dog/00644-3846168806.png  \n",
            "  inflating: animal/dog/00645-3846168807.png  \n",
            "  inflating: animal/dog/00646-3846168808.png  \n",
            "  inflating: animal/dog/00647-3846168809.png  \n",
            "  inflating: animal/dog/00648-3846168810.png  \n",
            "  inflating: animal/dog/00649-3846168811.png  \n",
            "  inflating: animal/dog/00650-3846168812.png  \n",
            "  inflating: animal/dog/00651-3846168813.png  \n",
            "  inflating: animal/dog/00652-3846168814.png  \n",
            "  inflating: animal/dog/00653-3846168815.png  \n",
            "  inflating: animal/dog/00654-3846168816.png  \n",
            "  inflating: animal/dog/00655-3846168817.png  \n",
            "  inflating: animal/dog/00656-3846168818.png  \n",
            "  inflating: animal/dog/00657-3846168819.png  \n",
            "  inflating: animal/dog/00658-3846168820.png  \n",
            "  inflating: animal/dog/00659-3846168821.png  \n",
            "  inflating: animal/dog/00660-3846168822.png  \n",
            "  inflating: animal/dog/00661-3846168823.png  \n",
            "  inflating: animal/dog/00662-3846168824.png  \n",
            "  inflating: animal/dog/00663-3846168825.png  \n",
            "  inflating: animal/dog/00664-3846168826.png  \n",
            "  inflating: animal/dog/00665-3846168827.png  \n",
            "  inflating: animal/dog/00666-3846168828.png  \n",
            "  inflating: animal/dog/00667-3846168829.png  \n",
            "  inflating: animal/dog/00668-3846168830.png  \n",
            "  inflating: animal/dog/00669-3846168831.png  \n",
            "  inflating: animal/dog/00670-3846168832.png  \n",
            "  inflating: animal/dog/00671-3846168833.png  \n",
            "  inflating: animal/dog/00672-3846168834.png  \n",
            "  inflating: animal/dog/00673-3846168835.png  \n",
            "  inflating: animal/dog/00674-3846168836.png  \n",
            "  inflating: animal/dog/00675-3846168837.png  \n",
            "  inflating: animal/dog/00676-3846168838.png  \n",
            "  inflating: animal/dog/00677-3846168839.png  \n",
            "  inflating: animal/dog/00678-3846168840.png  \n",
            "  inflating: animal/dog/00679-3846168841.png  \n",
            "  inflating: animal/dog/00680-3846168842.png  \n",
            "  inflating: animal/dog/00681-3846168843.png  \n",
            "  inflating: animal/dog/00682-3846168844.png  \n",
            "  inflating: animal/dog/00683-3846168845.png  \n",
            "  inflating: animal/dog/00684-3846168846.png  \n",
            "  inflating: animal/dog/00685-3846168847.png  \n",
            "  inflating: animal/dog/00686-3846168848.png  \n",
            "  inflating: animal/dog/00687-3846168849.png  \n",
            "  inflating: animal/dog/00688-3846168850.png  \n",
            "  inflating: animal/dog/00689-3846168851.png  \n",
            "  inflating: animal/dog/00690-3846168852.png  \n",
            "  inflating: animal/dog/00691-3846168853.png  \n",
            "  inflating: animal/dog/00692-3846168854.png  \n",
            "  inflating: animal/dog/00693-3846168855.png  \n",
            "  inflating: animal/dog/00694-3846168856.png  \n",
            "  inflating: animal/dog/00695-3846168857.png  \n",
            "  inflating: animal/dog/00696-3846168858.png  \n",
            "  inflating: animal/dog/00697-3846168859.png  \n",
            "  inflating: animal/dog/00698-3846168860.png  \n",
            "  inflating: animal/dog/00699-3846168861.png  \n",
            "  inflating: animal/dog/00700-3846168862.png  \n",
            "  inflating: animal/dog/00701-3846168863.png  \n",
            "  inflating: animal/dog/00702-3846168864.png  \n",
            "  inflating: animal/dog/00703-3846168865.png  \n",
            "  inflating: animal/dog/00704-3846168866.png  \n",
            "  inflating: animal/dog/00705-3846168867.png  \n",
            "  inflating: animal/dog/00706-3846168868.png  \n",
            "  inflating: animal/dog/00707-3846168869.png  \n",
            "  inflating: animal/dog/00708-3846168870.png  \n",
            "  inflating: animal/dog/00709-3846168871.png  \n",
            "  inflating: animal/dog/00710-3846168872.png  \n",
            "  inflating: animal/dog/00711-3846168873.png  \n",
            "  inflating: animal/dog/00712-3846168874.png  \n",
            "  inflating: animal/dog/00713-3846168875.png  \n",
            "  inflating: animal/dog/00714-3846168876.png  \n",
            "  inflating: animal/dog/00715-3846168877.png  \n",
            "  inflating: animal/dog/00716-3846168878.png  \n",
            "  inflating: animal/dog/00717-3846168879.png  \n",
            "  inflating: animal/dog/00718-3846168880.png  \n",
            "  inflating: animal/dog/00719-3846168881.png  \n",
            "  inflating: animal/dog/00720-3846168882.png  \n",
            "  inflating: animal/dog/00721-3846168883.png  \n",
            "  inflating: animal/dog/00722-3846168884.png  \n",
            "  inflating: animal/dog/00723-3846168885.png  \n",
            "  inflating: animal/dog/00724-3846168886.png  \n",
            "  inflating: animal/dog/00725-3846168887.png  \n",
            "  inflating: animal/dog/00726-3846168888.png  \n",
            "  inflating: animal/dog/00727-3846168889.png  \n",
            "  inflating: animal/dog/00728-3846168890.png  \n",
            "  inflating: animal/dog/00729-3846168891.png  \n",
            "  inflating: animal/dog/00730-3846168892.png  \n",
            "  inflating: animal/dog/00731-3846168893.png  \n",
            "  inflating: animal/dog/00732-3846168894.png  \n",
            "  inflating: animal/dog/00733-3846168895.png  \n",
            "  inflating: animal/dog/00734-3846168896.png  \n",
            "  inflating: animal/dog/00735-3846168897.png  \n",
            "  inflating: animal/dog/00736-3846168898.png  \n",
            "  inflating: animal/dog/00737-3846168899.png  \n",
            "  inflating: animal/dog/00738-3846168900.png  \n",
            "  inflating: animal/dog/00739-3846168901.png  \n",
            "  inflating: animal/dog/00740-3846168902.png  \n",
            "  inflating: animal/dog/00741-3846168903.png  \n",
            "  inflating: animal/dog/00742-3846168904.png  \n",
            "  inflating: animal/dog/00743-3846168905.png  \n",
            "  inflating: animal/dog/00744-3846168906.png  \n",
            "  inflating: animal/dog/00745-3846168907.png  \n",
            "  inflating: animal/dog/00746-3846168908.png  \n",
            "  inflating: animal/dog/00747-3846168909.png  \n",
            "  inflating: animal/dog/00748-3846168910.png  \n",
            "  inflating: animal/dog/00749-3846168911.png  \n",
            "  inflating: animal/dog/00750-3846168912.png  \n",
            "  inflating: animal/dog/00751-3846168913.png  \n",
            "  inflating: animal/dog/00752-3846168914.png  \n",
            "  inflating: animal/dog/00753-3846168915.png  \n",
            "  inflating: animal/dog/00754-3846168916.png  \n",
            "  inflating: animal/dog/00755-3846168917.png  \n",
            "  inflating: animal/dog/00756-3846168918.png  \n",
            "  inflating: animal/dog/00757-3846168919.png  \n",
            "  inflating: animal/dog/00758-3846168920.png  \n",
            "  inflating: animal/dog/00759-3846168921.png  \n",
            "  inflating: animal/dog/00760-3846168922.png  \n",
            "  inflating: animal/dog/00761-3846168923.png  \n",
            "  inflating: animal/dog/00762-3846168924.png  \n",
            "  inflating: animal/dog/00763-3846168925.png  \n",
            "  inflating: animal/dog/00764-3846168926.png  \n",
            "  inflating: animal/dog/00765-3846168927.png  \n",
            "  inflating: animal/dog/00766-3846168928.png  \n",
            "  inflating: animal/dog/00767-3846168929.png  \n",
            "  inflating: animal/dog/00768-3846168930.png  \n",
            "  inflating: animal/dog/00769-3846168931.png  \n",
            "  inflating: animal/dog/00770-3846168932.png  \n",
            "  inflating: animal/dog/00771-3846168933.png  \n",
            "  inflating: animal/dog/00772-3846168934.png  \n",
            "  inflating: animal/dog/00773-3846168935.png  \n",
            "  inflating: animal/dog/00774-3846168936.png  \n",
            "  inflating: animal/dog/00775-3846168937.png  \n",
            "  inflating: animal/dog/00776-3846168938.png  \n",
            "  inflating: animal/dog/00777-3846168939.png  \n",
            "  inflating: animal/dog/00778-3846168940.png  \n",
            "  inflating: animal/dog/00779-3846168941.png  \n",
            "  inflating: animal/dog/00780-3846168942.png  \n",
            "  inflating: animal/dog/00781-3846168943.png  \n",
            "  inflating: animal/dog/00782-3846168944.png  \n",
            "  inflating: animal/dog/00783-3846168945.png  \n",
            "  inflating: animal/dog/00784-3846168946.png  \n",
            "  inflating: animal/dog/00785-3846168947.png  \n",
            "  inflating: animal/dog/00786-3846168948.png  \n",
            "  inflating: animal/dog/00787-3846168949.png  \n",
            "  inflating: animal/dog/00788-3846168950.png  \n",
            "  inflating: animal/dog/00789-3846168951.png  \n",
            "  inflating: animal/dog/00790-3846168952.png  \n",
            "  inflating: animal/dog/00791-3846168953.png  \n",
            "  inflating: animal/dog/00792-3846168954.png  \n",
            "  inflating: animal/dog/00793-3846168955.png  \n",
            "  inflating: animal/dog/00794-3846168956.png  \n",
            "  inflating: animal/dog/00795-3846168957.png  \n",
            "  inflating: animal/dog/00796-3846168958.png  \n",
            "  inflating: animal/dog/00797-3846168959.png  \n",
            "  inflating: animal/dog/00798-3846168960.png  \n",
            "  inflating: animal/dog/00799-3846168961.png  \n",
            "  inflating: animal/dog/00800-3846168962.png  \n",
            "  inflating: animal/dog/00801-3846168963.png  \n",
            "  inflating: animal/dog/00802-3846168964.png  \n",
            "  inflating: animal/dog/00803-3846168965.png  \n",
            "  inflating: animal/dog/00804-3846168966.png  \n",
            "  inflating: animal/dog/00805-3846168967.png  \n",
            "  inflating: animal/dog/00806-3846168968.png  \n",
            "  inflating: animal/dog/00807-3846168969.png  \n",
            "  inflating: animal/dog/00808-3846168970.png  \n",
            "  inflating: animal/dog/00809-3846168971.png  \n",
            "  inflating: animal/dog/00810-3846168972.png  \n",
            "  inflating: animal/dog/00811-3846168973.png  \n",
            "  inflating: animal/dog/00812-3846168974.png  \n",
            "  inflating: animal/dog/00813-3846168975.png  \n",
            "  inflating: animal/dog/00814-3846168976.png  \n",
            "  inflating: animal/dog/00815-3846168977.png  \n",
            "  inflating: animal/dog/00816-3846168978.png  \n",
            "  inflating: animal/dog/00817-3846168979.png  \n",
            "  inflating: animal/dog/00818-3846168980.png  \n",
            "  inflating: animal/dog/00819-3846168981.png  \n",
            "  inflating: animal/dog/00820-3846168982.png  \n",
            "  inflating: animal/dog/00821-3846168983.png  \n",
            "  inflating: animal/dog/00822-3846168984.png  \n",
            "  inflating: animal/dog/00823-3846168985.png  \n",
            "  inflating: animal/dog/00824-3846168986.png  \n",
            "  inflating: animal/dog/00825-3846168987.png  \n",
            "  inflating: animal/dog/00826-3846168988.png  \n",
            "  inflating: animal/dog/00827-3846168989.png  \n",
            "  inflating: animal/dog/00828-3846168990.png  \n",
            "  inflating: animal/dog/00829-3846168991.png  \n",
            "  inflating: animal/dog/00830-3846168992.png  \n",
            "  inflating: animal/dog/00831-3846168993.png  \n",
            "  inflating: animal/dog/00832-3846168994.png  \n",
            "  inflating: animal/dog/00833-3846168995.png  \n",
            "  inflating: animal/dog/00834-3846168996.png  \n",
            "  inflating: animal/dog/00835-3846168997.png  \n",
            "  inflating: animal/dog/00836-3846168998.png  \n",
            "  inflating: animal/dog/00837-3846168999.png  \n",
            "  inflating: animal/dog/00838-3846169000.png  \n",
            "  inflating: animal/dog/00839-3846169001.png  \n",
            "  inflating: animal/dog/00840-3846169002.png  \n",
            "  inflating: animal/dog/00841-3846169003.png  \n",
            "  inflating: animal/dog/00842-3846169004.png  \n",
            "  inflating: animal/dog/00843-3846169005.png  \n",
            "  inflating: animal/dog/00844-3846169006.png  \n",
            "  inflating: animal/dog/00845-3846169007.png  \n",
            "  inflating: animal/dog/00846-3846169008.png  \n",
            "  inflating: animal/dog/00847-3846169009.png  \n",
            "  inflating: animal/dog/00848-3846169010.png  \n",
            "  inflating: animal/dog/00849-3846169011.png  \n",
            "  inflating: animal/dog/00850-3846169012.png  \n",
            "  inflating: animal/dog/00851-3846169013.png  \n",
            "  inflating: animal/dog/00852-3846169014.png  \n",
            "  inflating: animal/dog/00853-3846169015.png  \n",
            "  inflating: animal/dog/00854-3846169016.png  \n",
            "  inflating: animal/dog/00855-3846169017.png  \n",
            "  inflating: animal/dog/00856-3846169018.png  \n",
            "  inflating: animal/dog/00857-3846169019.png  \n",
            "  inflating: animal/dog/00858-3846169020.png  \n",
            "  inflating: animal/dog/00859-3846169021.png  \n",
            "  inflating: animal/dog/00860-3846169022.png  \n",
            "  inflating: animal/dog/00861-3846169023.png  \n",
            "  inflating: animal/dog/00862-3846169024.png  \n",
            "  inflating: animal/dog/00863-3846169025.png  \n",
            "  inflating: animal/dog/00864-3846169026.png  \n",
            "  inflating: animal/dog/00865-3846169027.png  \n",
            "  inflating: animal/dog/00866-3846169028.png  \n",
            "  inflating: animal/dog/00867-3846169029.png  \n",
            "  inflating: animal/dog/00868-3846169030.png  \n",
            "  inflating: animal/dog/00869-3846169031.png  \n",
            "  inflating: animal/dog/00870-3846169032.png  \n",
            "  inflating: animal/dog/00871-3846169033.png  \n",
            "  inflating: animal/dog/00872-3846169034.png  \n",
            "  inflating: animal/dog/00873-3846169035.png  \n",
            "  inflating: animal/dog/00874-3846169036.png  \n",
            "  inflating: animal/dog/00875-3846169037.png  \n",
            "  inflating: animal/dog/00876-3846169038.png  \n",
            "  inflating: animal/dog/00877-3846169039.png  \n",
            "  inflating: animal/dog/00878-3846169040.png  \n",
            "  inflating: animal/dog/00879-3846169041.png  \n",
            "  inflating: animal/dog/00880-3846169042.png  \n",
            "  inflating: animal/dog/00881-3846169043.png  \n",
            "  inflating: animal/dog/00882-3846169044.png  \n",
            "  inflating: animal/dog/00883-3846169045.png  \n",
            "  inflating: animal/dog/00884-3846169046.png  \n",
            "  inflating: animal/dog/00885-3846169047.png  \n",
            "  inflating: animal/dog/00886-3846169048.png  \n",
            "  inflating: animal/dog/00887-3846169049.png  \n",
            "  inflating: animal/dog/00888-3846169050.png  \n",
            "  inflating: animal/dog/00889-3846169051.png  \n",
            "  inflating: animal/dog/00890-3846169052.png  \n",
            "  inflating: animal/dog/00891-3846169053.png  \n",
            "  inflating: animal/dog/00892-3846169054.png  \n",
            "  inflating: animal/dog/00893-3846169055.png  \n",
            "  inflating: animal/dog/00894-3846169056.png  \n",
            "  inflating: animal/dog/00895-3846169057.png  \n",
            "  inflating: animal/dog/00896-3846169058.png  \n",
            "  inflating: animal/dog/00897-3846169059.png  \n",
            "  inflating: animal/dog/00898-3846169060.png  \n",
            "  inflating: animal/dog/00899-3846169061.png  \n",
            "  inflating: animal/dog/00900-3846169062.png  \n",
            "  inflating: animal/dog/00901-3846169063.png  \n",
            "  inflating: animal/dog/00902-3846169064.png  \n",
            "  inflating: animal/dog/00903-3846169065.png  \n",
            "  inflating: animal/dog/00904-3846169066.png  \n",
            "  inflating: animal/dog/00905-3846169067.png  \n",
            "  inflating: animal/dog/00906-3846169068.png  \n",
            "  inflating: animal/dog/00907-3846169069.png  \n",
            "  inflating: animal/dog/00908-3846169070.png  \n",
            "  inflating: animal/dog/00909-3846169071.png  \n",
            "  inflating: animal/dog/00910-3846169072.png  \n",
            "  inflating: animal/dog/00911-3846169073.png  \n",
            "  inflating: animal/dog/00912-3846169074.png  \n",
            "  inflating: animal/dog/00913-3846169075.png  \n",
            "  inflating: animal/dog/00914-3846169076.png  \n",
            "  inflating: animal/dog/00915-3846169077.png  \n",
            "  inflating: animal/dog/00916-3846169078.png  \n",
            "  inflating: animal/dog/00917-3846169079.png  \n",
            "  inflating: animal/dog/00918-3846169080.png  \n",
            "  inflating: animal/dog/00919-3846169081.png  \n",
            "  inflating: animal/dog/00920-3846169082.png  \n",
            "  inflating: animal/dog/00921-3846169083.png  \n",
            "  inflating: animal/dog/00922-3846169084.png  \n",
            "  inflating: animal/dog/00923-3846169085.png  \n",
            "  inflating: animal/dog/00924-3846169086.png  \n",
            "  inflating: animal/dog/00925-3846169087.png  \n",
            "  inflating: animal/dog/00926-3846169088.png  \n",
            "  inflating: animal/dog/00927-3846169089.png  \n",
            "  inflating: animal/dog/00928-3846169090.png  \n",
            "  inflating: animal/dog/00929-3846169091.png  \n",
            "  inflating: animal/dog/00930-3846169092.png  \n",
            "  inflating: animal/dog/00931-3846169093.png  \n",
            "  inflating: animal/dog/00932-3846169094.png  \n",
            "  inflating: animal/dog/00933-3846169095.png  \n",
            "  inflating: animal/dog/00934-3846169096.png  \n",
            "  inflating: animal/dog/00935-3846169097.png  \n",
            "  inflating: animal/dog/00936-3846169098.png  \n",
            "  inflating: animal/dog/00937-3846169099.png  \n",
            "  inflating: animal/dog/00938-3846169100.png  \n",
            "  inflating: animal/dog/00939-3846169101.png  \n",
            "  inflating: animal/dog/00940-3846169102.png  \n",
            "  inflating: animal/dog/00941-3846169103.png  \n",
            "  inflating: animal/dog/00942-3846169104.png  \n",
            "  inflating: animal/dog/00943-3846169105.png  \n",
            "  inflating: animal/dog/00944-3846169106.png  \n",
            "  inflating: animal/dog/00945-3846169107.png  \n",
            "  inflating: animal/dog/00946-3846169108.png  \n",
            "  inflating: animal/dog/00947-3846169109.png  \n",
            "  inflating: animal/dog/00948-3846169110.png  \n",
            "  inflating: animal/dog/00949-3846169111.png  \n",
            "  inflating: animal/dog/00950-3846169112.png  \n",
            "  inflating: animal/dog/00951-3846169113.png  \n",
            "  inflating: animal/dog/00952-3846169114.png  \n",
            "  inflating: animal/dog/00953-3846169115.png  \n",
            "  inflating: animal/dog/00954-3846169116.png  \n",
            "  inflating: animal/dog/00955-3846169117.png  \n",
            "  inflating: animal/dog/00956-3846169118.png  \n",
            "  inflating: animal/dog/00957-3846169119.png  \n",
            "  inflating: animal/dog/00958-3846169120.png  \n",
            "  inflating: animal/dog/00959-3846169121.png  \n",
            "  inflating: animal/dog/00960-3846169122.png  \n",
            "  inflating: animal/dog/00961-3846169123.png  \n",
            "  inflating: animal/dog/00962-3846169124.png  \n",
            "  inflating: animal/dog/00963-3846169125.png  \n",
            "  inflating: animal/dog/00964-3846169126.png  \n",
            "  inflating: animal/dog/00965-3846169127.png  \n",
            "  inflating: animal/dog/00966-3846169128.png  \n",
            "  inflating: animal/dog/00967-3846169129.png  \n",
            "  inflating: animal/dog/00968-3846169130.png  \n",
            "  inflating: animal/dog/00969-3846169131.png  \n",
            "  inflating: animal/dog/00970-3846169132.png  \n",
            "  inflating: animal/dog/00971-3846169133.png  \n",
            "  inflating: animal/dog/00972-3846169134.png  \n",
            "  inflating: animal/dog/00973-3846169135.png  \n",
            "  inflating: animal/dog/00974-3846169136.png  \n",
            "  inflating: animal/dog/00975-127787229.png  \n",
            "  inflating: animal/dog/00976-127787230.png  \n",
            "  inflating: animal/dog/00977-127787231.png  \n",
            "  inflating: animal/dog/00978-127787232.png  \n",
            "  inflating: animal/dog/00979-127787233.png  \n",
            "  inflating: animal/dog/00980-127787234.png  \n",
            "  inflating: animal/dog/00981-127787235.png  \n",
            "  inflating: animal/dog/00982-127787236.png  \n",
            "  inflating: animal/dog/00983-127787237.png  \n",
            "  inflating: animal/dog/00984-127787238.png  \n",
            "  inflating: animal/dog/00985-127787239.png  \n",
            "  inflating: animal/dog/00986-127787240.png  \n",
            "  inflating: animal/dog/00987-127787241.png  \n",
            "  inflating: animal/dog/00988-127787242.png  \n",
            "  inflating: animal/dog/00989-127787243.png  \n",
            "  inflating: animal/dog/00990-127787244.png  \n",
            "  inflating: animal/dog/00991-127787245.png  \n",
            "  inflating: animal/dog/00992-127787246.png  \n",
            "  inflating: animal/dog/00993-127787247.png  \n",
            "  inflating: animal/dog/00994-127787248.png  \n",
            "  inflating: animal/dog/00995-127787249.png  \n",
            "  inflating: animal/dog/00996-127787250.png  \n",
            "  inflating: animal/dog/00997-127787251.png  \n",
            "  inflating: animal/dog/00998-127787252.png  \n",
            "  inflating: animal/dog/00999-127787253.png  \n"
          ]
        }
      ]
    },
    {
      "cell_type": "code",
      "source": [
        "import tensorflow as tf"
      ],
      "metadata": {
        "id": "eP_w_MrcnR1p"
      },
      "execution_count": 3,
      "outputs": []
    },
    {
      "cell_type": "code",
      "source": [
        "from tensorflow.keras.preprocessing.image import ImageDataGenerator"
      ],
      "metadata": {
        "id": "Ur3NWWdynVn_"
      },
      "execution_count": 4,
      "outputs": []
    },
    {
      "cell_type": "code",
      "source": [
        "train_gen=ImageDataGenerator(\n",
        "    rescale=1.0/255,           # Normalize pixel values to [0, 1]\n",
        "    rotation_range=20,         # Randomly rotate images\n",
        "    width_shift_range=0.2,     # Randomly shift images horizontally\n",
        "    height_shift_range=0.2,    # Randomly shift images vertically\n",
        "    shear_range=0.2,           # Randomly shear images\n",
        "    zoom_range=0.2,            # Randomly zoom into images\n",
        "    horizontal_flip=True,      # Randomly flip images horizontally\n",
        "    fill_mode='nearest',\n",
        "    validation_split=0.2\n",
        ")"
      ],
      "metadata": {
        "id": "GRop554IoFZ9"
      },
      "execution_count": 5,
      "outputs": []
    },
    {
      "cell_type": "code",
      "source": [
        "train_generator = train_gen.flow_from_directory(\n",
        "    '/content/animal',                     # Path to the main directory\n",
        "    target_size=(224, 224),      # Resize images to 150x150 pixels\n",
        "    batch_size=32,               # Number of images to return in each batch\n",
        "    class_mode='binary',         # Type of label arrays: \"categorical\", \"binary\", etc.\n",
        "    subset='training'            # Specify this as the training subset\n",
        ")"
      ],
      "metadata": {
        "colab": {
          "base_uri": "https://localhost:8080/"
        },
        "id": "04_3CiVQodc8",
        "outputId": "4c297863-cc10-4d28-b7bb-f1bd06ed199b"
      },
      "execution_count": null,
      "outputs": [
        {
          "output_type": "stream",
          "name": "stdout",
          "text": [
            "Found 800 images belonging to 2 classes.\n"
          ]
        }
      ]
    },
    {
      "cell_type": "code",
      "source": [
        "val_gen=train_gen.flow_from_directory(\n",
        "    '/content/animal',\n",
        "    target_size=(224,224),\n",
        "    batch_size=32,\n",
        "    class_mode='binary',\n",
        "    subset='validation'\n",
        ")"
      ],
      "metadata": {
        "colab": {
          "base_uri": "https://localhost:8080/"
        },
        "id": "P9TRCiKSou6o",
        "outputId": "ed101b76-f709-4210-d9ba-621ea84ada5b"
      },
      "execution_count": null,
      "outputs": [
        {
          "output_type": "stream",
          "name": "stdout",
          "text": [
            "Found 200 images belonging to 2 classes.\n"
          ]
        }
      ]
    },
    {
      "cell_type": "code",
      "source": [
        "import tensorflow as tf\n",
        "from tensorflow.keras import Sequential\n",
        "from tensorflow.keras.layers import Dense, Flatten, Conv2D, MaxPooling2D\n",
        "\n",
        "base_model = Sequential([\n",
        "    tf.keras.layers.Input(shape=(224, 224, 3)),\n",
        "    tf.keras.layers.Conv2D(32, (3, 3), activation='relu'),\n",
        "    tf.keras.layers.Conv2D(64, (4, 4), activation='relu'),\n",
        "    tf.keras.layers.MaxPooling2D(pool_size=(2, 2)),\n",
        "    tf.keras.layers.Conv2D(128, (7, 7), activation='relu'),\n",
        "    tf.keras.layers.Conv2D(128, (5, 5), activation='relu'),\n",
        "    tf.keras.layers.MaxPooling2D(pool_size=(2, 2)),\n",
        "    tf.keras.layers.Flatten(),\n",
        "    tf.keras.layers.Dense(128, activation='relu'),\n",
        "    tf.keras.layers.Dense(64, activation='relu'),\n",
        "    tf.keras.layers.Dense(1, activation='sigmoid')\n",
        "])\n"
      ],
      "metadata": {
        "id": "Z7-EVaCDo_NL"
      },
      "execution_count": null,
      "outputs": []
    },
    {
      "cell_type": "code",
      "source": [
        "base_model.compile(loss='binary_crossentropy',optimizer='adam',metrics=['accuracy'])"
      ],
      "metadata": {
        "id": "0QmZs6qTqGw4"
      },
      "execution_count": null,
      "outputs": []
    },
    {
      "cell_type": "code",
      "source": [
        "base_model.fit(train_generator,epochs=20,validation_data=val_gen)"
      ],
      "metadata": {
        "colab": {
          "base_uri": "https://localhost:8080/"
        },
        "id": "Ndu_zSlrqeTG",
        "outputId": "409fd771-666a-4251-8509-a1802f506027"
      },
      "execution_count": null,
      "outputs": [
        {
          "output_type": "stream",
          "name": "stdout",
          "text": [
            "Epoch 1/20\n",
            "\u001b[1m25/25\u001b[0m \u001b[32m━━━━━━━━━━━━━━━━━━━━\u001b[0m\u001b[37m\u001b[0m \u001b[1m26s\u001b[0m 848ms/step - accuracy: 0.9160 - loss: 0.2056 - val_accuracy: 0.9600 - val_loss: 0.1178\n",
            "Epoch 2/20\n",
            "\u001b[1m25/25\u001b[0m \u001b[32m━━━━━━━━━━━━━━━━━━━━\u001b[0m\u001b[37m\u001b[0m \u001b[1m40s\u001b[0m 789ms/step - accuracy: 0.9278 - loss: 0.1727 - val_accuracy: 0.9500 - val_loss: 0.1896\n",
            "Epoch 3/20\n",
            "\u001b[1m25/25\u001b[0m \u001b[32m━━━━━━━━━━━━━━━━━━━━\u001b[0m\u001b[37m\u001b[0m \u001b[1m25s\u001b[0m 797ms/step - accuracy: 0.9330 - loss: 0.1922 - val_accuracy: 0.9050 - val_loss: 0.2066\n",
            "Epoch 4/20\n",
            "\u001b[1m25/25\u001b[0m \u001b[32m━━━━━━━━━━━━━━━━━━━━\u001b[0m\u001b[37m\u001b[0m \u001b[1m25s\u001b[0m 796ms/step - accuracy: 0.9470 - loss: 0.1444 - val_accuracy: 0.9350 - val_loss: 0.1410\n",
            "Epoch 5/20\n",
            "\u001b[1m25/25\u001b[0m \u001b[32m━━━━━━━━━━━━━━━━━━━━\u001b[0m\u001b[37m\u001b[0m \u001b[1m25s\u001b[0m 796ms/step - accuracy: 0.9644 - loss: 0.1086 - val_accuracy: 0.9750 - val_loss: 0.1007\n",
            "Epoch 6/20\n",
            "\u001b[1m25/25\u001b[0m \u001b[32m━━━━━━━━━━━━━━━━━━━━\u001b[0m\u001b[37m\u001b[0m \u001b[1m42s\u001b[0m 851ms/step - accuracy: 0.9479 - loss: 0.1139 - val_accuracy: 0.9750 - val_loss: 0.0594\n",
            "Epoch 7/20\n",
            "\u001b[1m25/25\u001b[0m \u001b[32m━━━━━━━━━━━━━━━━━━━━\u001b[0m\u001b[37m\u001b[0m \u001b[1m40s\u001b[0m 849ms/step - accuracy: 0.9703 - loss: 0.0781 - val_accuracy: 0.9350 - val_loss: 0.2515\n",
            "Epoch 8/20\n",
            "\u001b[1m25/25\u001b[0m \u001b[32m━━━━━━━━━━━━━━━━━━━━\u001b[0m\u001b[37m\u001b[0m \u001b[1m41s\u001b[0m 806ms/step - accuracy: 0.9435 - loss: 0.1465 - val_accuracy: 0.9700 - val_loss: 0.0953\n",
            "Epoch 9/20\n",
            "\u001b[1m25/25\u001b[0m \u001b[32m━━━━━━━━━━━━━━━━━━━━\u001b[0m\u001b[37m\u001b[0m \u001b[1m41s\u001b[0m 799ms/step - accuracy: 0.9628 - loss: 0.1255 - val_accuracy: 0.9400 - val_loss: 0.1530\n",
            "Epoch 10/20\n",
            "\u001b[1m25/25\u001b[0m \u001b[32m━━━━━━━━━━━━━━━━━━━━\u001b[0m\u001b[37m\u001b[0m \u001b[1m41s\u001b[0m 843ms/step - accuracy: 0.9365 - loss: 0.1564 - val_accuracy: 0.9200 - val_loss: 0.1935\n",
            "Epoch 11/20\n",
            "\u001b[1m25/25\u001b[0m \u001b[32m━━━━━━━━━━━━━━━━━━━━\u001b[0m\u001b[37m\u001b[0m \u001b[1m25s\u001b[0m 845ms/step - accuracy: 0.9520 - loss: 0.1456 - val_accuracy: 0.9900 - val_loss: 0.0360\n",
            "Epoch 12/20\n",
            "\u001b[1m25/25\u001b[0m \u001b[32m━━━━━━━━━━━━━━━━━━━━\u001b[0m\u001b[37m\u001b[0m \u001b[1m40s\u001b[0m 807ms/step - accuracy: 0.9731 - loss: 0.0793 - val_accuracy: 0.9700 - val_loss: 0.0762\n",
            "Epoch 13/20\n",
            "\u001b[1m25/25\u001b[0m \u001b[32m━━━━━━━━━━━━━━━━━━━━\u001b[0m\u001b[37m\u001b[0m \u001b[1m42s\u001b[0m 786ms/step - accuracy: 0.9727 - loss: 0.0722 - val_accuracy: 0.9750 - val_loss: 0.0749\n",
            "Epoch 14/20\n",
            "\u001b[1m25/25\u001b[0m \u001b[32m━━━━━━━━━━━━━━━━━━━━\u001b[0m\u001b[37m\u001b[0m \u001b[1m41s\u001b[0m 833ms/step - accuracy: 0.9759 - loss: 0.0511 - val_accuracy: 0.9700 - val_loss: 0.1699\n",
            "Epoch 15/20\n",
            "\u001b[1m25/25\u001b[0m \u001b[32m━━━━━━━━━━━━━━━━━━━━\u001b[0m\u001b[37m\u001b[0m \u001b[1m25s\u001b[0m 840ms/step - accuracy: 0.9818 - loss: 0.0491 - val_accuracy: 0.9900 - val_loss: 0.0392\n",
            "Epoch 16/20\n",
            "\u001b[1m25/25\u001b[0m \u001b[32m━━━━━━━━━━━━━━━━━━━━\u001b[0m\u001b[37m\u001b[0m \u001b[1m40s\u001b[0m 817ms/step - accuracy: 0.9902 - loss: 0.0340 - val_accuracy: 0.9650 - val_loss: 0.0568\n",
            "Epoch 17/20\n",
            "\u001b[1m25/25\u001b[0m \u001b[32m━━━━━━━━━━━━━━━━━━━━\u001b[0m\u001b[37m\u001b[0m \u001b[1m41s\u001b[0m 792ms/step - accuracy: 0.9739 - loss: 0.0641 - val_accuracy: 0.9900 - val_loss: 0.0245\n",
            "Epoch 18/20\n",
            "\u001b[1m25/25\u001b[0m \u001b[32m━━━━━━━━━━━━━━━━━━━━\u001b[0m\u001b[37m\u001b[0m \u001b[1m25s\u001b[0m 795ms/step - accuracy: 0.9612 - loss: 0.1161 - val_accuracy: 0.9750 - val_loss: 0.0713\n",
            "Epoch 19/20\n",
            "\u001b[1m25/25\u001b[0m \u001b[32m━━━━━━━━━━━━━━━━━━━━\u001b[0m\u001b[37m\u001b[0m \u001b[1m40s\u001b[0m 788ms/step - accuracy: 0.9777 - loss: 0.0676 - val_accuracy: 0.9700 - val_loss: 0.1604\n",
            "Epoch 20/20\n",
            "\u001b[1m25/25\u001b[0m \u001b[32m━━━━━━━━━━━━━━━━━━━━\u001b[0m\u001b[37m\u001b[0m \u001b[1m41s\u001b[0m 837ms/step - accuracy: 0.9749 - loss: 0.0669 - val_accuracy: 0.9550 - val_loss: 0.1146\n"
          ]
        },
        {
          "output_type": "execute_result",
          "data": {
            "text/plain": [
              "<keras.src.callbacks.history.History at 0x7d0f404bb070>"
            ]
          },
          "metadata": {},
          "execution_count": 13
        }
      ]
    },
    {
      "cell_type": "code",
      "source": [
        "!pip install --upgrade tensorflow"
      ],
      "metadata": {
        "colab": {
          "base_uri": "https://localhost:8080/"
        },
        "collapsed": true,
        "id": "8-6Jd8k41dGE",
        "outputId": "4e95d175-95f2-4aa7-86c5-f24323be8fc7"
      },
      "execution_count": null,
      "outputs": [
        {
          "output_type": "stream",
          "name": "stdout",
          "text": [
            "Requirement already satisfied: tensorflow in /usr/local/lib/python3.10/dist-packages (2.17.0)\n",
            "Requirement already satisfied: absl-py>=1.0.0 in /usr/local/lib/python3.10/dist-packages (from tensorflow) (1.4.0)\n",
            "Requirement already satisfied: astunparse>=1.6.0 in /usr/local/lib/python3.10/dist-packages (from tensorflow) (1.6.3)\n",
            "Requirement already satisfied: flatbuffers>=24.3.25 in /usr/local/lib/python3.10/dist-packages (from tensorflow) (24.3.25)\n",
            "Requirement already satisfied: gast!=0.5.0,!=0.5.1,!=0.5.2,>=0.2.1 in /usr/local/lib/python3.10/dist-packages (from tensorflow) (0.6.0)\n",
            "Requirement already satisfied: google-pasta>=0.1.1 in /usr/local/lib/python3.10/dist-packages (from tensorflow) (0.2.0)\n",
            "Requirement already satisfied: h5py>=3.10.0 in /usr/local/lib/python3.10/dist-packages (from tensorflow) (3.11.0)\n",
            "Requirement already satisfied: libclang>=13.0.0 in /usr/local/lib/python3.10/dist-packages (from tensorflow) (18.1.1)\n",
            "Requirement already satisfied: ml-dtypes<0.5.0,>=0.3.1 in /usr/local/lib/python3.10/dist-packages (from tensorflow) (0.4.0)\n",
            "Requirement already satisfied: opt-einsum>=2.3.2 in /usr/local/lib/python3.10/dist-packages (from tensorflow) (3.3.0)\n",
            "Requirement already satisfied: packaging in /usr/local/lib/python3.10/dist-packages (from tensorflow) (24.1)\n",
            "Requirement already satisfied: protobuf!=4.21.0,!=4.21.1,!=4.21.2,!=4.21.3,!=4.21.4,!=4.21.5,<5.0.0dev,>=3.20.3 in /usr/local/lib/python3.10/dist-packages (from tensorflow) (3.20.3)\n",
            "Requirement already satisfied: requests<3,>=2.21.0 in /usr/local/lib/python3.10/dist-packages (from tensorflow) (2.32.3)\n",
            "Requirement already satisfied: setuptools in /usr/local/lib/python3.10/dist-packages (from tensorflow) (71.0.4)\n",
            "Requirement already satisfied: six>=1.12.0 in /usr/local/lib/python3.10/dist-packages (from tensorflow) (1.16.0)\n",
            "Requirement already satisfied: termcolor>=1.1.0 in /usr/local/lib/python3.10/dist-packages (from tensorflow) (2.4.0)\n",
            "Requirement already satisfied: typing-extensions>=3.6.6 in /usr/local/lib/python3.10/dist-packages (from tensorflow) (4.12.2)\n",
            "Requirement already satisfied: wrapt>=1.11.0 in /usr/local/lib/python3.10/dist-packages (from tensorflow) (1.16.0)\n",
            "Requirement already satisfied: grpcio<2.0,>=1.24.3 in /usr/local/lib/python3.10/dist-packages (from tensorflow) (1.64.1)\n",
            "Requirement already satisfied: tensorboard<2.18,>=2.17 in /usr/local/lib/python3.10/dist-packages (from tensorflow) (2.17.0)\n",
            "Requirement already satisfied: keras>=3.2.0 in /usr/local/lib/python3.10/dist-packages (from tensorflow) (3.4.1)\n",
            "Requirement already satisfied: tensorflow-io-gcs-filesystem>=0.23.1 in /usr/local/lib/python3.10/dist-packages (from tensorflow) (0.37.1)\n",
            "Requirement already satisfied: numpy<2.0.0,>=1.23.5 in /usr/local/lib/python3.10/dist-packages (from tensorflow) (1.26.4)\n",
            "Requirement already satisfied: wheel<1.0,>=0.23.0 in /usr/local/lib/python3.10/dist-packages (from astunparse>=1.6.0->tensorflow) (0.44.0)\n",
            "Requirement already satisfied: rich in /usr/local/lib/python3.10/dist-packages (from keras>=3.2.0->tensorflow) (13.7.1)\n",
            "Requirement already satisfied: namex in /usr/local/lib/python3.10/dist-packages (from keras>=3.2.0->tensorflow) (0.0.8)\n",
            "Requirement already satisfied: optree in /usr/local/lib/python3.10/dist-packages (from keras>=3.2.0->tensorflow) (0.12.1)\n",
            "Requirement already satisfied: charset-normalizer<4,>=2 in /usr/local/lib/python3.10/dist-packages (from requests<3,>=2.21.0->tensorflow) (3.3.2)\n",
            "Requirement already satisfied: idna<4,>=2.5 in /usr/local/lib/python3.10/dist-packages (from requests<3,>=2.21.0->tensorflow) (3.7)\n",
            "Requirement already satisfied: urllib3<3,>=1.21.1 in /usr/local/lib/python3.10/dist-packages (from requests<3,>=2.21.0->tensorflow) (2.0.7)\n",
            "Requirement already satisfied: certifi>=2017.4.17 in /usr/local/lib/python3.10/dist-packages (from requests<3,>=2.21.0->tensorflow) (2024.7.4)\n",
            "Requirement already satisfied: markdown>=2.6.8 in /usr/local/lib/python3.10/dist-packages (from tensorboard<2.18,>=2.17->tensorflow) (3.7)\n",
            "Requirement already satisfied: tensorboard-data-server<0.8.0,>=0.7.0 in /usr/local/lib/python3.10/dist-packages (from tensorboard<2.18,>=2.17->tensorflow) (0.7.2)\n",
            "Requirement already satisfied: werkzeug>=1.0.1 in /usr/local/lib/python3.10/dist-packages (from tensorboard<2.18,>=2.17->tensorflow) (3.0.3)\n",
            "Requirement already satisfied: MarkupSafe>=2.1.1 in /usr/local/lib/python3.10/dist-packages (from werkzeug>=1.0.1->tensorboard<2.18,>=2.17->tensorflow) (2.1.5)\n",
            "Requirement already satisfied: markdown-it-py>=2.2.0 in /usr/local/lib/python3.10/dist-packages (from rich->keras>=3.2.0->tensorflow) (3.0.0)\n",
            "Requirement already satisfied: pygments<3.0.0,>=2.13.0 in /usr/local/lib/python3.10/dist-packages (from rich->keras>=3.2.0->tensorflow) (2.16.1)\n",
            "Requirement already satisfied: mdurl~=0.1 in /usr/local/lib/python3.10/dist-packages (from markdown-it-py>=2.2.0->rich->keras>=3.2.0->tensorflow) (0.1.2)\n"
          ]
        }
      ]
    },
    {
      "cell_type": "code",
      "source": [
        "base_model = tf.keras.applications.xception.Xception(weights=\"imagenet\",\n",
        " include_top=False)\n",
        "avg = tf.keras.layers.GlobalAveragePooling2D()(base_model.output)\n",
        "output =tf.keras.layers.Dense(1, activation=\"sigmoid\")(avg)\n",
        "model = tf.keras.models.Model(inputs=base_model.input, outputs=output)"
      ],
      "metadata": {
        "colab": {
          "base_uri": "https://localhost:8080/"
        },
        "id": "OC_44xsSwAbH",
        "outputId": "511d4617-60e2-4968-ec5c-6f7f4d82d494"
      },
      "execution_count": null,
      "outputs": [
        {
          "output_type": "stream",
          "name": "stdout",
          "text": [
            "Downloading data from https://storage.googleapis.com/tensorflow/keras-applications/xception/xception_weights_tf_dim_ordering_tf_kernels_notop.h5\n",
            "\u001b[1m83683744/83683744\u001b[0m \u001b[32m━━━━━━━━━━━━━━━━━━━━\u001b[0m\u001b[37m\u001b[0m \u001b[1m0s\u001b[0m 0us/step\n"
          ]
        }
      ]
    },
    {
      "cell_type": "code",
      "source": [
        "model.compile(loss='binary_crossentropy',optimizer='adam',metrics=['accuracy'])"
      ],
      "metadata": {
        "id": "UgQgFz9F1S10"
      },
      "execution_count": null,
      "outputs": []
    },
    {
      "cell_type": "code",
      "source": [
        "model.fit(train_generator,epochs=5,validation_data=val_gen)"
      ],
      "metadata": {
        "colab": {
          "base_uri": "https://localhost:8080/"
        },
        "id": "KgDsu6Vj1ju6",
        "outputId": "e6e22bb2-7ba4-41ce-e810-309549018754"
      },
      "execution_count": null,
      "outputs": [
        {
          "output_type": "stream",
          "name": "stdout",
          "text": [
            "Epoch 1/5\n"
          ]
        },
        {
          "output_type": "stream",
          "name": "stderr",
          "text": [
            "/usr/local/lib/python3.10/dist-packages/keras/src/trainers/data_adapters/py_dataset_adapter.py:121: UserWarning: Your `PyDataset` class should call `super().__init__(**kwargs)` in its constructor. `**kwargs` can include `workers`, `use_multiprocessing`, `max_queue_size`. Do not pass these arguments to `fit()`, as they will be ignored.\n",
            "  self._warn_if_super_not_called()\n"
          ]
        },
        {
          "output_type": "stream",
          "name": "stdout",
          "text": [
            "\u001b[1m11/25\u001b[0m \u001b[32m━━━━━━━━\u001b[0m\u001b[37m━━━━━━━━━━━━\u001b[0m \u001b[1m7:50\u001b[0m 34s/step - accuracy: 0.9016 - loss: 0.2434"
          ]
        }
      ]
    },
    {
      "cell_type": "code",
      "source": [
        "import os\n",
        "import shutil\n",
        "from sklearn.model_selection import train_test_split\n",
        "\n",
        "# Define the paths\n",
        "data_dir = '/content/animal'\n",
        "train_dir = '/content/animal/train'\n",
        "test_dir = '/content/animal/test'\n",
        "\n",
        "# Create train and test directories if they don't exist\n",
        "os.makedirs(train_dir, exist_ok=True)\n",
        "os.makedirs(test_dir, exist_ok=True)\n",
        "\n",
        "# Define the classes (subfolders)\n",
        "classes = ['dog', 'cat']\n",
        "\n",
        "for class_name in classes:\n",
        "    # Get the list of all files in the current class directory\n",
        "    class_dir = os.path.join(data_dir, class_name)\n",
        "    files = os.listdir(class_dir)\n",
        "\n",
        "    # Split the files into train and test sets (80% train, 20% test)\n",
        "    train_files, test_files = train_test_split(files, test_size=0.2, random_state=42)\n",
        "\n",
        "    # Create corresponding directories in train and test folders\n",
        "    train_class_dir = os.path.join(train_dir, class_name)\n",
        "    test_class_dir = os.path.join(test_dir, class_name)\n",
        "\n",
        "    os.makedirs(train_class_dir, exist_ok=True)\n",
        "    os.makedirs(test_class_dir, exist_ok=True)\n",
        "\n",
        "    # Move the files to the respective directories\n",
        "    for file_name in train_files:\n",
        "        shutil.move(os.path.join(class_dir, file_name), os.path.join(train_class_dir, file_name))\n",
        "\n",
        "    for file_name in test_files:\n",
        "        shutil.move(os.path.join(class_dir, file_name), os.path.join(test_class_dir, file_name))\n",
        "\n",
        "print(\"Data split into train and test sets successfully.\")\n"
      ],
      "metadata": {
        "colab": {
          "base_uri": "https://localhost:8080/"
        },
        "id": "ucHQMYgfALkI",
        "outputId": "77d43be0-cf5e-4c3c-c205-81829a701729"
      },
      "execution_count": 6,
      "outputs": [
        {
          "output_type": "stream",
          "name": "stdout",
          "text": [
            "Data split into train and test sets successfully.\n"
          ]
        }
      ]
    },
    {
      "cell_type": "code",
      "source": [
        "!pip install imageai"
      ],
      "metadata": {
        "id": "pJ4_GJQa2p8g",
        "colab": {
          "base_uri": "https://localhost:8080/"
        },
        "outputId": "f67ab452-e021-4385-8971-1ee75b447fd1"
      },
      "execution_count": 8,
      "outputs": [
        {
          "output_type": "stream",
          "name": "stdout",
          "text": [
            "Collecting imageai\n",
            "  Downloading imageai-3.0.3-py3-none-any.whl.metadata (340 bytes)\n",
            "Downloading imageai-3.0.3-py3-none-any.whl (69 kB)\n",
            "\u001b[?25l   \u001b[90m━━━━━━━━━━━━━━━━━━━━━━━━━━━━━━━━━━━━━━━━\u001b[0m \u001b[32m0.0/69.8 kB\u001b[0m \u001b[31m?\u001b[0m eta \u001b[36m-:--:--\u001b[0m\r\u001b[2K   \u001b[90m━━━━━━━━━━━━━━━━━━━━━━━━━━━━━━━━━━━━━━━━\u001b[0m \u001b[32m69.8/69.8 kB\u001b[0m \u001b[31m6.8 MB/s\u001b[0m eta \u001b[36m0:00:00\u001b[0m\n",
            "\u001b[?25hInstalling collected packages: imageai\n",
            "Successfully installed imageai-3.0.3\n"
          ]
        }
      ]
    },
    {
      "cell_type": "code",
      "source": [
        "from imageai.Classification.Custom import ClassificationModelTrainer\n",
        "\n",
        "model_trainer=ClassificationModelTrainer()\n",
        "model_trainer.setModelTypeAsMobileNetV2()\n",
        "model_trainer.setDataDirectory('/content/animal')\n",
        "!rm -r '/content/animal/.ipynb_checkpoints'\n",
        "model_trainer.trainModel(num_experiments=20,batch_size=32)"
      ],
      "metadata": {
        "colab": {
          "base_uri": "https://localhost:8080/"
        },
        "id": "lQGznGjV7vsT",
        "outputId": "a4173207-2cfc-4b1c-c702-c2bd58205ae4"
      },
      "execution_count": 10,
      "outputs": [
        {
          "output_type": "stream",
          "name": "stdout",
          "text": [
            "rm: cannot remove '/content/animal/.ipynb_checkpoints': No such file or directory\n",
            "==================================================\n",
            "Training with GPU\n",
            "==================================================\n",
            "Epoch 1/20\n",
            "----------\n"
          ]
        },
        {
          "output_type": "stream",
          "name": "stderr",
          "text": [
            "100%|██████████| 25/25 [00:13<00:00,  1.86it/s]\n"
          ]
        },
        {
          "output_type": "stream",
          "name": "stdout",
          "text": [
            "train Loss: 0.8313 Accuracy: 0.6000\n"
          ]
        },
        {
          "output_type": "stream",
          "name": "stderr",
          "text": [
            "100%|██████████| 7/7 [00:02<00:00,  2.46it/s]\n"
          ]
        },
        {
          "output_type": "stream",
          "name": "stdout",
          "text": [
            "test Loss: 0.8657 Accuracy: 0.5000\n",
            "Epoch 2/20\n",
            "----------\n"
          ]
        },
        {
          "output_type": "stream",
          "name": "stderr",
          "text": [
            "100%|██████████| 25/25 [00:13<00:00,  1.83it/s]\n"
          ]
        },
        {
          "output_type": "stream",
          "name": "stdout",
          "text": [
            "train Loss: 0.8784 Accuracy: 0.6825\n"
          ]
        },
        {
          "output_type": "stream",
          "name": "stderr",
          "text": [
            "100%|██████████| 7/7 [00:02<00:00,  2.47it/s]\n"
          ]
        },
        {
          "output_type": "stream",
          "name": "stdout",
          "text": [
            "test Loss: 20.0034 Accuracy: 0.5000\n",
            "Epoch 3/20\n",
            "----------\n"
          ]
        },
        {
          "output_type": "stream",
          "name": "stderr",
          "text": [
            "100%|██████████| 25/25 [00:13<00:00,  1.81it/s]\n"
          ]
        },
        {
          "output_type": "stream",
          "name": "stdout",
          "text": [
            "train Loss: 1.4795 Accuracy: 0.7275\n"
          ]
        },
        {
          "output_type": "stream",
          "name": "stderr",
          "text": [
            "100%|██████████| 7/7 [00:03<00:00,  2.14it/s]\n"
          ]
        },
        {
          "output_type": "stream",
          "name": "stdout",
          "text": [
            "test Loss: 12.9028 Accuracy: 0.5000\n",
            "Epoch 4/20\n",
            "----------\n"
          ]
        },
        {
          "output_type": "stream",
          "name": "stderr",
          "text": [
            "100%|██████████| 25/25 [00:13<00:00,  1.85it/s]\n"
          ]
        },
        {
          "output_type": "stream",
          "name": "stdout",
          "text": [
            "train Loss: 1.2030 Accuracy: 0.6488\n"
          ]
        },
        {
          "output_type": "stream",
          "name": "stderr",
          "text": [
            "100%|██████████| 7/7 [00:03<00:00,  2.18it/s]\n"
          ]
        },
        {
          "output_type": "stream",
          "name": "stdout",
          "text": [
            "test Loss: 3.6378 Accuracy: 0.7050\n",
            "Epoch 5/20\n",
            "----------\n"
          ]
        },
        {
          "output_type": "stream",
          "name": "stderr",
          "text": [
            "100%|██████████| 25/25 [00:13<00:00,  1.86it/s]\n"
          ]
        },
        {
          "output_type": "stream",
          "name": "stdout",
          "text": [
            "train Loss: 0.6490 Accuracy: 0.7712\n"
          ]
        },
        {
          "output_type": "stream",
          "name": "stderr",
          "text": [
            "100%|██████████| 7/7 [00:02<00:00,  2.44it/s]\n"
          ]
        },
        {
          "output_type": "stream",
          "name": "stdout",
          "text": [
            "test Loss: 0.6109 Accuracy: 0.7700\n",
            "Epoch 6/20\n",
            "----------\n"
          ]
        },
        {
          "output_type": "stream",
          "name": "stderr",
          "text": [
            "100%|██████████| 25/25 [00:13<00:00,  1.84it/s]\n"
          ]
        },
        {
          "output_type": "stream",
          "name": "stdout",
          "text": [
            "train Loss: 0.5779 Accuracy: 0.8275\n"
          ]
        },
        {
          "output_type": "stream",
          "name": "stderr",
          "text": [
            "100%|██████████| 7/7 [00:02<00:00,  2.45it/s]\n"
          ]
        },
        {
          "output_type": "stream",
          "name": "stdout",
          "text": [
            "test Loss: 2.0415 Accuracy: 0.6750\n",
            "Epoch 7/20\n",
            "----------\n"
          ]
        },
        {
          "output_type": "stream",
          "name": "stderr",
          "text": [
            "100%|██████████| 25/25 [00:13<00:00,  1.86it/s]\n"
          ]
        },
        {
          "output_type": "stream",
          "name": "stdout",
          "text": [
            "train Loss: 0.3848 Accuracy: 0.8387\n"
          ]
        },
        {
          "output_type": "stream",
          "name": "stderr",
          "text": [
            "100%|██████████| 7/7 [00:03<00:00,  1.93it/s]\n"
          ]
        },
        {
          "output_type": "stream",
          "name": "stdout",
          "text": [
            "test Loss: 0.2262 Accuracy: 0.9200\n",
            "Epoch 8/20\n",
            "----------\n"
          ]
        },
        {
          "output_type": "stream",
          "name": "stderr",
          "text": [
            "100%|██████████| 25/25 [00:13<00:00,  1.83it/s]\n"
          ]
        },
        {
          "output_type": "stream",
          "name": "stdout",
          "text": [
            "train Loss: 0.2962 Accuracy: 0.8925\n"
          ]
        },
        {
          "output_type": "stream",
          "name": "stderr",
          "text": [
            "100%|██████████| 7/7 [00:02<00:00,  2.49it/s]\n"
          ]
        },
        {
          "output_type": "stream",
          "name": "stdout",
          "text": [
            "test Loss: 0.1926 Accuracy: 0.9200\n",
            "Epoch 9/20\n",
            "----------\n"
          ]
        },
        {
          "output_type": "stream",
          "name": "stderr",
          "text": [
            "100%|██████████| 25/25 [00:13<00:00,  1.84it/s]\n"
          ]
        },
        {
          "output_type": "stream",
          "name": "stdout",
          "text": [
            "train Loss: 0.2573 Accuracy: 0.8950\n"
          ]
        },
        {
          "output_type": "stream",
          "name": "stderr",
          "text": [
            "100%|██████████| 7/7 [00:02<00:00,  2.45it/s]\n"
          ]
        },
        {
          "output_type": "stream",
          "name": "stdout",
          "text": [
            "test Loss: 0.3136 Accuracy: 0.9150\n",
            "Epoch 10/20\n",
            "----------\n"
          ]
        },
        {
          "output_type": "stream",
          "name": "stderr",
          "text": [
            "100%|██████████| 25/25 [00:13<00:00,  1.85it/s]\n"
          ]
        },
        {
          "output_type": "stream",
          "name": "stdout",
          "text": [
            "train Loss: 0.2584 Accuracy: 0.9100\n"
          ]
        },
        {
          "output_type": "stream",
          "name": "stderr",
          "text": [
            "100%|██████████| 7/7 [00:02<00:00,  2.49it/s]\n"
          ]
        },
        {
          "output_type": "stream",
          "name": "stdout",
          "text": [
            "test Loss: 1.8497 Accuracy: 0.6250\n",
            "Epoch 11/20\n",
            "----------\n"
          ]
        },
        {
          "output_type": "stream",
          "name": "stderr",
          "text": [
            "100%|██████████| 25/25 [00:13<00:00,  1.85it/s]\n"
          ]
        },
        {
          "output_type": "stream",
          "name": "stdout",
          "text": [
            "train Loss: 0.2315 Accuracy: 0.9113\n"
          ]
        },
        {
          "output_type": "stream",
          "name": "stderr",
          "text": [
            "100%|██████████| 7/7 [00:03<00:00,  1.89it/s]\n"
          ]
        },
        {
          "output_type": "stream",
          "name": "stdout",
          "text": [
            "test Loss: 0.1215 Accuracy: 0.9450\n",
            "Epoch 12/20\n",
            "----------\n"
          ]
        },
        {
          "output_type": "stream",
          "name": "stderr",
          "text": [
            "100%|██████████| 25/25 [00:13<00:00,  1.83it/s]\n"
          ]
        },
        {
          "output_type": "stream",
          "name": "stdout",
          "text": [
            "train Loss: 0.2203 Accuracy: 0.9088\n"
          ]
        },
        {
          "output_type": "stream",
          "name": "stderr",
          "text": [
            "100%|██████████| 7/7 [00:02<00:00,  2.47it/s]\n"
          ]
        },
        {
          "output_type": "stream",
          "name": "stdout",
          "text": [
            "test Loss: 0.1204 Accuracy: 0.9500\n",
            "Epoch 13/20\n",
            "----------\n"
          ]
        },
        {
          "output_type": "stream",
          "name": "stderr",
          "text": [
            "100%|██████████| 25/25 [00:13<00:00,  1.84it/s]\n"
          ]
        },
        {
          "output_type": "stream",
          "name": "stdout",
          "text": [
            "train Loss: 0.1948 Accuracy: 0.9275\n"
          ]
        },
        {
          "output_type": "stream",
          "name": "stderr",
          "text": [
            "100%|██████████| 7/7 [00:02<00:00,  2.47it/s]\n"
          ]
        },
        {
          "output_type": "stream",
          "name": "stdout",
          "text": [
            "test Loss: 0.1476 Accuracy: 0.9450\n",
            "Epoch 14/20\n",
            "----------\n"
          ]
        },
        {
          "output_type": "stream",
          "name": "stderr",
          "text": [
            "100%|██████████| 25/25 [00:13<00:00,  1.86it/s]\n"
          ]
        },
        {
          "output_type": "stream",
          "name": "stdout",
          "text": [
            "train Loss: 0.1506 Accuracy: 0.9450\n"
          ]
        },
        {
          "output_type": "stream",
          "name": "stderr",
          "text": [
            "100%|██████████| 7/7 [00:02<00:00,  2.45it/s]\n"
          ]
        },
        {
          "output_type": "stream",
          "name": "stdout",
          "text": [
            "test Loss: 0.2001 Accuracy: 0.9400\n",
            "Epoch 15/20\n",
            "----------\n"
          ]
        },
        {
          "output_type": "stream",
          "name": "stderr",
          "text": [
            "100%|██████████| 25/25 [00:13<00:00,  1.82it/s]\n"
          ]
        },
        {
          "output_type": "stream",
          "name": "stdout",
          "text": [
            "train Loss: 0.1299 Accuracy: 0.9513\n"
          ]
        },
        {
          "output_type": "stream",
          "name": "stderr",
          "text": [
            "100%|██████████| 7/7 [00:03<00:00,  1.96it/s]\n"
          ]
        },
        {
          "output_type": "stream",
          "name": "stdout",
          "text": [
            "test Loss: 0.1251 Accuracy: 0.9450\n",
            "Epoch 16/20\n",
            "----------\n"
          ]
        },
        {
          "output_type": "stream",
          "name": "stderr",
          "text": [
            "100%|██████████| 25/25 [00:13<00:00,  1.86it/s]\n"
          ]
        },
        {
          "output_type": "stream",
          "name": "stdout",
          "text": [
            "train Loss: 0.1608 Accuracy: 0.9500\n"
          ]
        },
        {
          "output_type": "stream",
          "name": "stderr",
          "text": [
            "100%|██████████| 7/7 [00:02<00:00,  2.48it/s]\n"
          ]
        },
        {
          "output_type": "stream",
          "name": "stdout",
          "text": [
            "test Loss: 0.1766 Accuracy: 0.9250\n",
            "Epoch 17/20\n",
            "----------\n"
          ]
        },
        {
          "output_type": "stream",
          "name": "stderr",
          "text": [
            "100%|██████████| 25/25 [00:13<00:00,  1.85it/s]\n"
          ]
        },
        {
          "output_type": "stream",
          "name": "stdout",
          "text": [
            "train Loss: 0.1588 Accuracy: 0.9375\n"
          ]
        },
        {
          "output_type": "stream",
          "name": "stderr",
          "text": [
            "100%|██████████| 7/7 [00:02<00:00,  2.49it/s]\n"
          ]
        },
        {
          "output_type": "stream",
          "name": "stdout",
          "text": [
            "test Loss: 0.0743 Accuracy: 0.9700\n",
            "Epoch 18/20\n",
            "----------\n"
          ]
        },
        {
          "output_type": "stream",
          "name": "stderr",
          "text": [
            "100%|██████████| 25/25 [00:13<00:00,  1.85it/s]\n"
          ]
        },
        {
          "output_type": "stream",
          "name": "stdout",
          "text": [
            "train Loss: 0.1811 Accuracy: 0.9313\n"
          ]
        },
        {
          "output_type": "stream",
          "name": "stderr",
          "text": [
            "100%|██████████| 7/7 [00:03<00:00,  2.05it/s]\n"
          ]
        },
        {
          "output_type": "stream",
          "name": "stdout",
          "text": [
            "test Loss: 0.0617 Accuracy: 0.9750\n",
            "Epoch 19/20\n",
            "----------\n"
          ]
        },
        {
          "output_type": "stream",
          "name": "stderr",
          "text": [
            "100%|██████████| 25/25 [00:13<00:00,  1.82it/s]\n"
          ]
        },
        {
          "output_type": "stream",
          "name": "stdout",
          "text": [
            "train Loss: 0.1371 Accuracy: 0.9475\n"
          ]
        },
        {
          "output_type": "stream",
          "name": "stderr",
          "text": [
            "100%|██████████| 7/7 [00:02<00:00,  2.41it/s]\n"
          ]
        },
        {
          "output_type": "stream",
          "name": "stdout",
          "text": [
            "test Loss: 0.6070 Accuracy: 0.8450\n",
            "Epoch 20/20\n",
            "----------\n"
          ]
        },
        {
          "output_type": "stream",
          "name": "stderr",
          "text": [
            "100%|██████████| 25/25 [00:13<00:00,  1.80it/s]\n"
          ]
        },
        {
          "output_type": "stream",
          "name": "stdout",
          "text": [
            "train Loss: 0.1552 Accuracy: 0.9400\n"
          ]
        },
        {
          "output_type": "stream",
          "name": "stderr",
          "text": [
            "100%|██████████| 7/7 [00:02<00:00,  2.43it/s]"
          ]
        },
        {
          "output_type": "stream",
          "name": "stdout",
          "text": [
            "test Loss: 0.4121 Accuracy: 0.8550\n",
            "Training completed in 5m 33s\n",
            "Best test accuracy: 0.9750\n"
          ]
        },
        {
          "output_type": "stream",
          "name": "stderr",
          "text": [
            "\n"
          ]
        }
      ]
    },
    {
      "cell_type": "code",
      "source": [
        "from imageai.Classification.Custom import CustomImageClassification\n",
        "predictor=CustomImageClassification()\n",
        "predictor.setModelTypeAsMobileNetV2()\n",
        "predictor.setModelPath('/content/animal/models/mobilenet_v2-animal-test_acc_0.97500_epoch-17.pt')\n",
        "predictor.setJsonPath('/content/animal/models/animal_model_classes.json')\n",
        "predictor.loadModel()"
      ],
      "metadata": {
        "colab": {
          "base_uri": "https://localhost:8080/"
        },
        "id": "MfxGQ_F_8QVS",
        "outputId": "9426876c-a646-45a3-baf4-a9e82205cfa2"
      },
      "execution_count": 13,
      "outputs": [
        {
          "output_type": "stream",
          "name": "stderr",
          "text": [
            "/usr/local/lib/python3.10/dist-packages/torchvision/models/_utils.py:208: UserWarning: The parameter 'pretrained' is deprecated since 0.13 and may be removed in the future, please use 'weights' instead.\n",
            "  warnings.warn(\n",
            "/usr/local/lib/python3.10/dist-packages/torchvision/models/_utils.py:223: UserWarning: Arguments other than a weight enum or `None` for 'weights' are deprecated since 0.13 and may be removed in the future. The current behavior is equivalent to passing `weights=None`.\n",
            "  warnings.warn(msg)\n",
            "/usr/local/lib/python3.10/dist-packages/imageai/Classification/Custom/__init__.py:492: FutureWarning: You are using `torch.load` with `weights_only=False` (the current default value), which uses the default pickle module implicitly. It is possible to construct malicious pickle data which will execute arbitrary code during unpickling (See https://github.com/pytorch/pytorch/blob/main/SECURITY.md#untrusted-models for more details). In a future release, the default value for `weights_only` will be flipped to `True`. This limits the functions that could be executed during unpickling. Arbitrary objects will no longer be allowed to be loaded via this mode unless they are explicitly allowlisted by the user via `torch.serialization.add_safe_globals`. We recommend you start setting `weights_only=True` for any use case where you don't have full control of the loaded file. Please open an issue on GitHub for any issues related to this experimental feature.\n",
            "  state_dict = torch.load(self.__model_path, map_location=self.__device)\n"
          ]
        }
      ]
    },
    {
      "cell_type": "code",
      "source": [
        "predictions, probabilities = predictor.classifyImage(\"/content/animal/test/cat/00003-4122619876.png\", result_count=2)"
      ],
      "metadata": {
        "id": "jLOGkYRvCs8u"
      },
      "execution_count": 23,
      "outputs": []
    },
    {
      "cell_type": "code",
      "source": [
        "predictions"
      ],
      "metadata": {
        "colab": {
          "base_uri": "https://localhost:8080/"
        },
        "id": "g7N40gDfDKmN",
        "outputId": "45da73cc-42da-456d-c0e9-03538dabeafd"
      },
      "execution_count": 24,
      "outputs": [
        {
          "output_type": "execute_result",
          "data": {
            "text/plain": [
              "['cat', 'dog']"
            ]
          },
          "metadata": {},
          "execution_count": 24
        }
      ]
    },
    {
      "cell_type": "code",
      "source": [
        "probabilities"
      ],
      "metadata": {
        "colab": {
          "base_uri": "https://localhost:8080/"
        },
        "id": "fHeC4nYwC_8H",
        "outputId": "56fa9af7-f442-4793-fd74-81b82d4bea2e"
      },
      "execution_count": 25,
      "outputs": [
        {
          "output_type": "execute_result",
          "data": {
            "text/plain": [
              "[99.697, 0.303]"
            ]
          },
          "metadata": {},
          "execution_count": 25
        }
      ]
    },
    {
      "cell_type": "code",
      "source": [],
      "metadata": {
        "id": "VPKgWlL1DE_X"
      },
      "execution_count": null,
      "outputs": []
    }
  ]
}